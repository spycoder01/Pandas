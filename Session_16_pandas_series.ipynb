{
  "nbformat": 4,
  "nbformat_minor": 0,
  "metadata": {
    "colab": {
      "provenance": [],
      "include_colab_link": true
    },
    "kernelspec": {
      "name": "python3",
      "display_name": "Python 3"
    },
    "language_info": {
      "name": "python"
    }
  },
  "cells": [
    {
      "cell_type": "markdown",
      "metadata": {
        "id": "view-in-github",
        "colab_type": "text"
      },
      "source": [
        "<a href=\"https://colab.research.google.com/github/spycoder01/Pandas/blob/main/Session_16_pandas_series.ipynb\" target=\"_parent\"><img src=\"https://colab.research.google.com/assets/colab-badge.svg\" alt=\"Open In Colab\"/></a>"
      ]
    },
    {
      "cell_type": "markdown",
      "source": [
        "### What is Pandas\n",
        "\n",
        "Pandas is a fast, powerful, flexible and easy to use open source data analysis and manipulation tool,\n",
        "built on top of the Python programming language.\n",
        "\n",
        "https://pandas.pydata.org/about/index.html"
      ],
      "metadata": {
        "id": "Nkgl3LZGP0XZ"
      }
    },
    {
      "cell_type": "markdown",
      "source": [
        "### Pandas Series\n",
        "\n",
        "A Pandas Series is like a column in a table. It is a 1-D array holding data of any type."
      ],
      "metadata": {
        "id": "3QmWVpYGRw59"
      }
    },
    {
      "cell_type": "markdown",
      "source": [
        "### Importing Pandas"
      ],
      "metadata": {
        "id": "3hwTOkrbPMjE"
      }
    },
    {
      "cell_type": "code",
      "source": [
        "import numpy as np\n",
        "import pandas as pd"
      ],
      "metadata": {
        "id": "QWWCrofyPM7J"
      },
      "execution_count": null,
      "outputs": []
    },
    {
      "cell_type": "markdown",
      "source": [
        "### Series from lists"
      ],
      "metadata": {
        "id": "uU-Ms_To_FG1"
      }
    },
    {
      "cell_type": "code",
      "source": [
        "# string\n",
        "country = ['India','Japan','Bhutan','Russia','France']\n",
        "\n",
        "pd.Series(country)"
      ],
      "metadata": {
        "colab": {
          "base_uri": "https://localhost:8080/",
          "height": 241
        },
        "id": "KYk9Gta7_G38",
        "outputId": "4d33b815-f1e3-4eb3-c95c-934235ff84b4"
      },
      "execution_count": null,
      "outputs": [
        {
          "output_type": "execute_result",
          "data": {
            "text/plain": [
              "0     India\n",
              "1     Japan\n",
              "2    Bhutan\n",
              "3    Russia\n",
              "4    France\n",
              "dtype: object"
            ],
            "text/html": [
              "<div>\n",
              "<style scoped>\n",
              "    .dataframe tbody tr th:only-of-type {\n",
              "        vertical-align: middle;\n",
              "    }\n",
              "\n",
              "    .dataframe tbody tr th {\n",
              "        vertical-align: top;\n",
              "    }\n",
              "\n",
              "    .dataframe thead th {\n",
              "        text-align: right;\n",
              "    }\n",
              "</style>\n",
              "<table border=\"1\" class=\"dataframe\">\n",
              "  <thead>\n",
              "    <tr style=\"text-align: right;\">\n",
              "      <th></th>\n",
              "      <th>0</th>\n",
              "    </tr>\n",
              "  </thead>\n",
              "  <tbody>\n",
              "    <tr>\n",
              "      <th>0</th>\n",
              "      <td>India</td>\n",
              "    </tr>\n",
              "    <tr>\n",
              "      <th>1</th>\n",
              "      <td>Japan</td>\n",
              "    </tr>\n",
              "    <tr>\n",
              "      <th>2</th>\n",
              "      <td>Bhutan</td>\n",
              "    </tr>\n",
              "    <tr>\n",
              "      <th>3</th>\n",
              "      <td>Russia</td>\n",
              "    </tr>\n",
              "    <tr>\n",
              "      <th>4</th>\n",
              "      <td>France</td>\n",
              "    </tr>\n",
              "  </tbody>\n",
              "</table>\n",
              "</div><br><label><b>dtype:</b> object</label>"
            ]
          },
          "metadata": {},
          "execution_count": 5
        }
      ]
    },
    {
      "cell_type": "code",
      "source": [
        "# integers\n",
        "runs = [13,24,56,78,100]\n",
        "\n",
        "runs_ser = pd.Series(runs)"
      ],
      "metadata": {
        "id": "h_Wgimpg_Idl"
      },
      "execution_count": 40,
      "outputs": []
    },
    {
      "cell_type": "code",
      "source": [
        "# custom index\n",
        "marks = [67,57,89,100]\n",
        "subjects = ['Maths','English','Science','Hindi']\n",
        "\n",
        "pd.Series(marks,index=subjects)"
      ],
      "metadata": {
        "colab": {
          "base_uri": "https://localhost:8080/",
          "height": 209
        },
        "id": "CJgHbnepH_EX",
        "outputId": "2651e49b-706f-403b-e900-dd27f32b16c7"
      },
      "execution_count": null,
      "outputs": [
        {
          "output_type": "execute_result",
          "data": {
            "text/plain": [
              "Maths       67\n",
              "English     57\n",
              "Science     89\n",
              "Hindi      100\n",
              "dtype: int64"
            ],
            "text/html": [
              "<div>\n",
              "<style scoped>\n",
              "    .dataframe tbody tr th:only-of-type {\n",
              "        vertical-align: middle;\n",
              "    }\n",
              "\n",
              "    .dataframe tbody tr th {\n",
              "        vertical-align: top;\n",
              "    }\n",
              "\n",
              "    .dataframe thead th {\n",
              "        text-align: right;\n",
              "    }\n",
              "</style>\n",
              "<table border=\"1\" class=\"dataframe\">\n",
              "  <thead>\n",
              "    <tr style=\"text-align: right;\">\n",
              "      <th></th>\n",
              "      <th>0</th>\n",
              "    </tr>\n",
              "  </thead>\n",
              "  <tbody>\n",
              "    <tr>\n",
              "      <th>Maths</th>\n",
              "      <td>67</td>\n",
              "    </tr>\n",
              "    <tr>\n",
              "      <th>English</th>\n",
              "      <td>57</td>\n",
              "    </tr>\n",
              "    <tr>\n",
              "      <th>Science</th>\n",
              "      <td>89</td>\n",
              "    </tr>\n",
              "    <tr>\n",
              "      <th>Hindi</th>\n",
              "      <td>100</td>\n",
              "    </tr>\n",
              "  </tbody>\n",
              "</table>\n",
              "</div><br><label><b>dtype:</b> int64</label>"
            ]
          },
          "metadata": {},
          "execution_count": 6
        }
      ]
    },
    {
      "cell_type": "code",
      "source": [
        "# setting a name\n",
        "marks = pd.Series(marks,index=subjects,name='Abhisek Gupta marks')\n",
        "marks"
      ],
      "metadata": {
        "colab": {
          "base_uri": "https://localhost:8080/",
          "height": 209
        },
        "id": "zcjykyJVKgWs",
        "outputId": "eece914d-9c58-4bd6-b149-939d4a8b6108"
      },
      "execution_count": null,
      "outputs": [
        {
          "output_type": "execute_result",
          "data": {
            "text/plain": [
              "maths       67\n",
              "english     57\n",
              "science     89\n",
              "hindi      100\n",
              "Name: Abhisek Gupta marks, dtype: int64"
            ],
            "text/html": [
              "<div>\n",
              "<style scoped>\n",
              "    .dataframe tbody tr th:only-of-type {\n",
              "        vertical-align: middle;\n",
              "    }\n",
              "\n",
              "    .dataframe tbody tr th {\n",
              "        vertical-align: top;\n",
              "    }\n",
              "\n",
              "    .dataframe thead th {\n",
              "        text-align: right;\n",
              "    }\n",
              "</style>\n",
              "<table border=\"1\" class=\"dataframe\">\n",
              "  <thead>\n",
              "    <tr style=\"text-align: right;\">\n",
              "      <th></th>\n",
              "      <th>Abhisek Gupta marks</th>\n",
              "    </tr>\n",
              "  </thead>\n",
              "  <tbody>\n",
              "    <tr>\n",
              "      <th>maths</th>\n",
              "      <td>67</td>\n",
              "    </tr>\n",
              "    <tr>\n",
              "      <th>english</th>\n",
              "      <td>57</td>\n",
              "    </tr>\n",
              "    <tr>\n",
              "      <th>science</th>\n",
              "      <td>89</td>\n",
              "    </tr>\n",
              "    <tr>\n",
              "      <th>hindi</th>\n",
              "      <td>100</td>\n",
              "    </tr>\n",
              "  </tbody>\n",
              "</table>\n",
              "</div><br><label><b>dtype:</b> int64</label>"
            ]
          },
          "metadata": {},
          "execution_count": 12
        }
      ]
    },
    {
      "cell_type": "markdown",
      "source": [
        "### Series from dict"
      ],
      "metadata": {
        "id": "gw4NHrWf_Km3"
      }
    },
    {
      "cell_type": "code",
      "source": [
        "marks = {\n",
        "    'maths':67,\n",
        "    'english':57,\n",
        "    'science':89,\n",
        "    'hindi':100\n",
        "}\n",
        "\n",
        "marks_series = pd.Series(marks,name='Abhisek Gupta marks')\n",
        "marks_series"
      ],
      "metadata": {
        "colab": {
          "base_uri": "https://localhost:8080/",
          "height": 209
        },
        "id": "Sz9B_oPy_RMX",
        "outputId": "c71f23bd-9224-4733-ce44-a77034b14e93"
      },
      "execution_count": 32,
      "outputs": [
        {
          "output_type": "execute_result",
          "data": {
            "text/plain": [
              "maths       67\n",
              "english     57\n",
              "science     89\n",
              "hindi      100\n",
              "Name: Abhisek Gupta marks, dtype: int64"
            ],
            "text/html": [
              "<div>\n",
              "<style scoped>\n",
              "    .dataframe tbody tr th:only-of-type {\n",
              "        vertical-align: middle;\n",
              "    }\n",
              "\n",
              "    .dataframe tbody tr th {\n",
              "        vertical-align: top;\n",
              "    }\n",
              "\n",
              "    .dataframe thead th {\n",
              "        text-align: right;\n",
              "    }\n",
              "</style>\n",
              "<table border=\"1\" class=\"dataframe\">\n",
              "  <thead>\n",
              "    <tr style=\"text-align: right;\">\n",
              "      <th></th>\n",
              "      <th>Abhisek Gupta marks</th>\n",
              "    </tr>\n",
              "  </thead>\n",
              "  <tbody>\n",
              "    <tr>\n",
              "      <th>maths</th>\n",
              "      <td>67</td>\n",
              "    </tr>\n",
              "    <tr>\n",
              "      <th>english</th>\n",
              "      <td>57</td>\n",
              "    </tr>\n",
              "    <tr>\n",
              "      <th>science</th>\n",
              "      <td>89</td>\n",
              "    </tr>\n",
              "    <tr>\n",
              "      <th>hindi</th>\n",
              "      <td>100</td>\n",
              "    </tr>\n",
              "  </tbody>\n",
              "</table>\n",
              "</div><br><label><b>dtype:</b> int64</label>"
            ]
          },
          "metadata": {},
          "execution_count": 32
        }
      ]
    },
    {
      "cell_type": "markdown",
      "source": [
        "### Series Attributes"
      ],
      "metadata": {
        "id": "MDSIDfei_Szi"
      }
    },
    {
      "cell_type": "code",
      "source": [
        "# size\n",
        "marks_series.size"
      ],
      "metadata": {
        "colab": {
          "base_uri": "https://localhost:8080/"
        },
        "id": "0_eqjw1u_lG_",
        "outputId": "5d0a82ad-78c1-4d70-cca3-55f0324362ea"
      },
      "execution_count": null,
      "outputs": [
        {
          "output_type": "execute_result",
          "data": {
            "text/plain": [
              "4"
            ]
          },
          "metadata": {},
          "execution_count": 28
        }
      ]
    },
    {
      "cell_type": "code",
      "source": [
        "# dtype\n",
        "marks_series.dtype"
      ],
      "metadata": {
        "colab": {
          "base_uri": "https://localhost:8080/"
        },
        "id": "nYpNWJhWGyqa",
        "outputId": "26ae5c56-f0b4-47a0-cbbb-a35ddeb62f43"
      },
      "execution_count": null,
      "outputs": [
        {
          "output_type": "execute_result",
          "data": {
            "text/plain": [
              "dtype('int64')"
            ]
          },
          "metadata": {},
          "execution_count": 16
        }
      ]
    },
    {
      "cell_type": "code",
      "source": [
        "# name\n",
        "marks_series.name"
      ],
      "metadata": {
        "colab": {
          "base_uri": "https://localhost:8080/",
          "height": 36
        },
        "id": "ImBy24CkKkZP",
        "outputId": "9fa48795-1c08-41e5-f869-ccb2a95e8c70"
      },
      "execution_count": null,
      "outputs": [
        {
          "output_type": "execute_result",
          "data": {
            "text/plain": [
              "'Abhisek Gupta marks'"
            ],
            "application/vnd.google.colaboratory.intrinsic+json": {
              "type": "string"
            }
          },
          "metadata": {},
          "execution_count": 17
        }
      ]
    },
    {
      "cell_type": "code",
      "source": [
        "# is_unique\n",
        "marks_series.is_unique\n",
        "\n",
        "pd.Series([1,1,2,3,4,5]).is_unique"
      ],
      "metadata": {
        "colab": {
          "base_uri": "https://localhost:8080/"
        },
        "id": "UsNGB2rCF9V-",
        "outputId": "33a10277-3589-4a91-ded3-6497929e98fa"
      },
      "execution_count": null,
      "outputs": [
        {
          "output_type": "execute_result",
          "data": {
            "text/plain": [
              "False"
            ]
          },
          "metadata": {},
          "execution_count": 20
        }
      ]
    },
    {
      "cell_type": "code",
      "source": [
        "# index\n",
        "marks_series.index"
      ],
      "metadata": {
        "colab": {
          "base_uri": "https://localhost:8080/"
        },
        "id": "VLB00Z-vGBHL",
        "outputId": "f49ea31d-92d4-453a-c649-990f6b630420"
      },
      "execution_count": null,
      "outputs": [
        {
          "output_type": "execute_result",
          "data": {
            "text/plain": [
              "Index(['maths', 'english', 'science', 'hindi'], dtype='object')"
            ]
          },
          "metadata": {},
          "execution_count": 33
        }
      ]
    },
    {
      "cell_type": "code",
      "source": [
        "runs_ser.index"
      ],
      "metadata": {
        "colab": {
          "base_uri": "https://localhost:8080/"
        },
        "id": "MJ1HXX2H_Mhu",
        "outputId": "f84e87cf-6961-4a5e-e084-a8fb6f2b623a"
      },
      "execution_count": null,
      "outputs": [
        {
          "output_type": "execute_result",
          "data": {
            "text/plain": [
              "RangeIndex(start=0, stop=5, step=1)"
            ]
          },
          "metadata": {},
          "execution_count": 21
        }
      ]
    },
    {
      "cell_type": "code",
      "source": [
        "# values\n",
        "marks_series.values"
      ],
      "metadata": {
        "colab": {
          "base_uri": "https://localhost:8080/"
        },
        "id": "PmE8l3SKGDbl",
        "outputId": "90d0daf7-580a-4def-9c42-f34a8ee9ca6a"
      },
      "execution_count": null,
      "outputs": [
        {
          "output_type": "execute_result",
          "data": {
            "text/plain": [
              "array([ 67,  57,  89, 100])"
            ]
          },
          "metadata": {},
          "execution_count": 40
        }
      ]
    },
    {
      "cell_type": "markdown",
      "source": [
        "### Series using read_csv"
      ],
      "metadata": {
        "id": "UCP7I0t_KMID"
      }
    },
    {
      "cell_type": "code",
      "source": [
        "# with one col\n",
        "subs = pd.read_csv('/content/subs.csv')\n",
        "subs=subs.squeeze(\"columns\")\n",
        "subs"
      ],
      "metadata": {
        "colab": {
          "base_uri": "https://localhost:8080/",
          "height": 458
        },
        "id": "r2FWTRoBGEk5",
        "outputId": "fe988a8e-d77c-4472-dafa-f59bae407546"
      },
      "execution_count": 13,
      "outputs": [
        {
          "output_type": "execute_result",
          "data": {
            "text/plain": [
              "0       48\n",
              "1       57\n",
              "2       40\n",
              "3       43\n",
              "4       44\n",
              "      ... \n",
              "360    231\n",
              "361    226\n",
              "362    155\n",
              "363    144\n",
              "364    172\n",
              "Name: Subscribers gained, Length: 365, dtype: int64"
            ],
            "text/html": [
              "<div>\n",
              "<style scoped>\n",
              "    .dataframe tbody tr th:only-of-type {\n",
              "        vertical-align: middle;\n",
              "    }\n",
              "\n",
              "    .dataframe tbody tr th {\n",
              "        vertical-align: top;\n",
              "    }\n",
              "\n",
              "    .dataframe thead th {\n",
              "        text-align: right;\n",
              "    }\n",
              "</style>\n",
              "<table border=\"1\" class=\"dataframe\">\n",
              "  <thead>\n",
              "    <tr style=\"text-align: right;\">\n",
              "      <th></th>\n",
              "      <th>Subscribers gained</th>\n",
              "    </tr>\n",
              "  </thead>\n",
              "  <tbody>\n",
              "    <tr>\n",
              "      <th>0</th>\n",
              "      <td>48</td>\n",
              "    </tr>\n",
              "    <tr>\n",
              "      <th>1</th>\n",
              "      <td>57</td>\n",
              "    </tr>\n",
              "    <tr>\n",
              "      <th>2</th>\n",
              "      <td>40</td>\n",
              "    </tr>\n",
              "    <tr>\n",
              "      <th>3</th>\n",
              "      <td>43</td>\n",
              "    </tr>\n",
              "    <tr>\n",
              "      <th>4</th>\n",
              "      <td>44</td>\n",
              "    </tr>\n",
              "    <tr>\n",
              "      <th>...</th>\n",
              "      <td>...</td>\n",
              "    </tr>\n",
              "    <tr>\n",
              "      <th>360</th>\n",
              "      <td>231</td>\n",
              "    </tr>\n",
              "    <tr>\n",
              "      <th>361</th>\n",
              "      <td>226</td>\n",
              "    </tr>\n",
              "    <tr>\n",
              "      <th>362</th>\n",
              "      <td>155</td>\n",
              "    </tr>\n",
              "    <tr>\n",
              "      <th>363</th>\n",
              "      <td>144</td>\n",
              "    </tr>\n",
              "    <tr>\n",
              "      <th>364</th>\n",
              "      <td>172</td>\n",
              "    </tr>\n",
              "  </tbody>\n",
              "</table>\n",
              "<p>365 rows × 1 columns</p>\n",
              "</div><br><label><b>dtype:</b> int64</label>"
            ]
          },
          "metadata": {},
          "execution_count": 13
        }
      ]
    },
    {
      "cell_type": "code",
      "source": [
        "# with 2 cols\n",
        "vk = pd.read_csv('/content/kohli_ipl.csv', index_col='match_no').squeeze('columns')\n",
        "vk"
      ],
      "metadata": {
        "colab": {
          "base_uri": "https://localhost:8080/",
          "height": 489
        },
        "id": "a6Y3bq4TOniT",
        "outputId": "e0881fdd-8bbb-4f28-8919-02e9257eaf3e"
      },
      "execution_count": 16,
      "outputs": [
        {
          "output_type": "execute_result",
          "data": {
            "text/plain": [
              "match_no\n",
              "1       1\n",
              "2      23\n",
              "3      13\n",
              "4      12\n",
              "5       1\n",
              "       ..\n",
              "211     0\n",
              "212    20\n",
              "213    73\n",
              "214    25\n",
              "215     7\n",
              "Name: runs, Length: 215, dtype: int64"
            ],
            "text/html": [
              "<div>\n",
              "<style scoped>\n",
              "    .dataframe tbody tr th:only-of-type {\n",
              "        vertical-align: middle;\n",
              "    }\n",
              "\n",
              "    .dataframe tbody tr th {\n",
              "        vertical-align: top;\n",
              "    }\n",
              "\n",
              "    .dataframe thead th {\n",
              "        text-align: right;\n",
              "    }\n",
              "</style>\n",
              "<table border=\"1\" class=\"dataframe\">\n",
              "  <thead>\n",
              "    <tr style=\"text-align: right;\">\n",
              "      <th></th>\n",
              "      <th>runs</th>\n",
              "    </tr>\n",
              "    <tr>\n",
              "      <th>match_no</th>\n",
              "      <th></th>\n",
              "    </tr>\n",
              "  </thead>\n",
              "  <tbody>\n",
              "    <tr>\n",
              "      <th>1</th>\n",
              "      <td>1</td>\n",
              "    </tr>\n",
              "    <tr>\n",
              "      <th>2</th>\n",
              "      <td>23</td>\n",
              "    </tr>\n",
              "    <tr>\n",
              "      <th>3</th>\n",
              "      <td>13</td>\n",
              "    </tr>\n",
              "    <tr>\n",
              "      <th>4</th>\n",
              "      <td>12</td>\n",
              "    </tr>\n",
              "    <tr>\n",
              "      <th>5</th>\n",
              "      <td>1</td>\n",
              "    </tr>\n",
              "    <tr>\n",
              "      <th>...</th>\n",
              "      <td>...</td>\n",
              "    </tr>\n",
              "    <tr>\n",
              "      <th>211</th>\n",
              "      <td>0</td>\n",
              "    </tr>\n",
              "    <tr>\n",
              "      <th>212</th>\n",
              "      <td>20</td>\n",
              "    </tr>\n",
              "    <tr>\n",
              "      <th>213</th>\n",
              "      <td>73</td>\n",
              "    </tr>\n",
              "    <tr>\n",
              "      <th>214</th>\n",
              "      <td>25</td>\n",
              "    </tr>\n",
              "    <tr>\n",
              "      <th>215</th>\n",
              "      <td>7</td>\n",
              "    </tr>\n",
              "  </tbody>\n",
              "</table>\n",
              "<p>215 rows × 1 columns</p>\n",
              "</div><br><label><b>dtype:</b> int64</label>"
            ]
          },
          "metadata": {},
          "execution_count": 16
        }
      ]
    },
    {
      "cell_type": "code",
      "source": [
        "movies = pd.read_csv('/content/bollywood.csv',index_col='movie').squeeze(\"columns\")\n",
        "movies"
      ],
      "metadata": {
        "colab": {
          "base_uri": "https://localhost:8080/",
          "height": 489
        },
        "id": "v34r_I_82dwZ",
        "outputId": "42067b25-4f7c-4beb-a984-874667530b58"
      },
      "execution_count": 17,
      "outputs": [
        {
          "output_type": "execute_result",
          "data": {
            "text/plain": [
              "movie\n",
              "Uri: The Surgical Strike                   Vicky Kaushal\n",
              "Battalion 609                                Vicky Ahuja\n",
              "The Accidental Prime Minister (film)         Anupam Kher\n",
              "Why Cheat India                            Emraan Hashmi\n",
              "Evening Shadows                         Mona Ambegaonkar\n",
              "                                              ...       \n",
              "Hum Tumhare Hain Sanam                    Shah Rukh Khan\n",
              "Aankhen (2002 film)                     Amitabh Bachchan\n",
              "Saathiya (film)                             Vivek Oberoi\n",
              "Company (film)                                Ajay Devgn\n",
              "Awara Paagal Deewana                        Akshay Kumar\n",
              "Name: lead, Length: 1500, dtype: object"
            ],
            "text/html": [
              "<div>\n",
              "<style scoped>\n",
              "    .dataframe tbody tr th:only-of-type {\n",
              "        vertical-align: middle;\n",
              "    }\n",
              "\n",
              "    .dataframe tbody tr th {\n",
              "        vertical-align: top;\n",
              "    }\n",
              "\n",
              "    .dataframe thead th {\n",
              "        text-align: right;\n",
              "    }\n",
              "</style>\n",
              "<table border=\"1\" class=\"dataframe\">\n",
              "  <thead>\n",
              "    <tr style=\"text-align: right;\">\n",
              "      <th></th>\n",
              "      <th>lead</th>\n",
              "    </tr>\n",
              "    <tr>\n",
              "      <th>movie</th>\n",
              "      <th></th>\n",
              "    </tr>\n",
              "  </thead>\n",
              "  <tbody>\n",
              "    <tr>\n",
              "      <th>Uri: The Surgical Strike</th>\n",
              "      <td>Vicky Kaushal</td>\n",
              "    </tr>\n",
              "    <tr>\n",
              "      <th>Battalion 609</th>\n",
              "      <td>Vicky Ahuja</td>\n",
              "    </tr>\n",
              "    <tr>\n",
              "      <th>The Accidental Prime Minister (film)</th>\n",
              "      <td>Anupam Kher</td>\n",
              "    </tr>\n",
              "    <tr>\n",
              "      <th>Why Cheat India</th>\n",
              "      <td>Emraan Hashmi</td>\n",
              "    </tr>\n",
              "    <tr>\n",
              "      <th>Evening Shadows</th>\n",
              "      <td>Mona Ambegaonkar</td>\n",
              "    </tr>\n",
              "    <tr>\n",
              "      <th>...</th>\n",
              "      <td>...</td>\n",
              "    </tr>\n",
              "    <tr>\n",
              "      <th>Hum Tumhare Hain Sanam</th>\n",
              "      <td>Shah Rukh Khan</td>\n",
              "    </tr>\n",
              "    <tr>\n",
              "      <th>Aankhen (2002 film)</th>\n",
              "      <td>Amitabh Bachchan</td>\n",
              "    </tr>\n",
              "    <tr>\n",
              "      <th>Saathiya (film)</th>\n",
              "      <td>Vivek Oberoi</td>\n",
              "    </tr>\n",
              "    <tr>\n",
              "      <th>Company (film)</th>\n",
              "      <td>Ajay Devgn</td>\n",
              "    </tr>\n",
              "    <tr>\n",
              "      <th>Awara Paagal Deewana</th>\n",
              "      <td>Akshay Kumar</td>\n",
              "    </tr>\n",
              "  </tbody>\n",
              "</table>\n",
              "<p>1500 rows × 1 columns</p>\n",
              "</div><br><label><b>dtype:</b> object</label>"
            ]
          },
          "metadata": {},
          "execution_count": 17
        }
      ]
    },
    {
      "cell_type": "markdown",
      "source": [
        "### Series methods"
      ],
      "metadata": {
        "id": "taKAApMTLJkG"
      }
    },
    {
      "cell_type": "code",
      "source": [
        "# head and tail\n",
        "subs.head()"
      ],
      "metadata": {
        "colab": {
          "base_uri": "https://localhost:8080/",
          "height": 241
        },
        "id": "Lt-l4sM_LLsH",
        "outputId": "30a4e41b-0344-4dde-d27e-1c6c17c73665"
      },
      "execution_count": 14,
      "outputs": [
        {
          "output_type": "execute_result",
          "data": {
            "text/plain": [
              "0    48\n",
              "1    57\n",
              "2    40\n",
              "3    43\n",
              "4    44\n",
              "Name: Subscribers gained, dtype: int64"
            ],
            "text/html": [
              "<div>\n",
              "<style scoped>\n",
              "    .dataframe tbody tr th:only-of-type {\n",
              "        vertical-align: middle;\n",
              "    }\n",
              "\n",
              "    .dataframe tbody tr th {\n",
              "        vertical-align: top;\n",
              "    }\n",
              "\n",
              "    .dataframe thead th {\n",
              "        text-align: right;\n",
              "    }\n",
              "</style>\n",
              "<table border=\"1\" class=\"dataframe\">\n",
              "  <thead>\n",
              "    <tr style=\"text-align: right;\">\n",
              "      <th></th>\n",
              "      <th>Subscribers gained</th>\n",
              "    </tr>\n",
              "  </thead>\n",
              "  <tbody>\n",
              "    <tr>\n",
              "      <th>0</th>\n",
              "      <td>48</td>\n",
              "    </tr>\n",
              "    <tr>\n",
              "      <th>1</th>\n",
              "      <td>57</td>\n",
              "    </tr>\n",
              "    <tr>\n",
              "      <th>2</th>\n",
              "      <td>40</td>\n",
              "    </tr>\n",
              "    <tr>\n",
              "      <th>3</th>\n",
              "      <td>43</td>\n",
              "    </tr>\n",
              "    <tr>\n",
              "      <th>4</th>\n",
              "      <td>44</td>\n",
              "    </tr>\n",
              "  </tbody>\n",
              "</table>\n",
              "</div><br><label><b>dtype:</b> int64</label>"
            ]
          },
          "metadata": {},
          "execution_count": 14
        }
      ]
    },
    {
      "cell_type": "code",
      "source": [
        "vk.head(3)"
      ],
      "metadata": {
        "colab": {
          "base_uri": "https://localhost:8080/",
          "height": 209
        },
        "id": "dvZrPaR-DiKT",
        "outputId": "9325ad0b-0cc3-46f5-f9bb-df7c14301cda"
      },
      "execution_count": null,
      "outputs": [
        {
          "output_type": "execute_result",
          "data": {
            "text/plain": [
              "match_no\n",
              "1     1\n",
              "2    23\n",
              "3    13\n",
              "Name: runs, dtype: int64"
            ],
            "text/html": [
              "<div>\n",
              "<style scoped>\n",
              "    .dataframe tbody tr th:only-of-type {\n",
              "        vertical-align: middle;\n",
              "    }\n",
              "\n",
              "    .dataframe tbody tr th {\n",
              "        vertical-align: top;\n",
              "    }\n",
              "\n",
              "    .dataframe thead th {\n",
              "        text-align: right;\n",
              "    }\n",
              "</style>\n",
              "<table border=\"1\" class=\"dataframe\">\n",
              "  <thead>\n",
              "    <tr style=\"text-align: right;\">\n",
              "      <th></th>\n",
              "      <th>runs</th>\n",
              "    </tr>\n",
              "    <tr>\n",
              "      <th>match_no</th>\n",
              "      <th></th>\n",
              "    </tr>\n",
              "  </thead>\n",
              "  <tbody>\n",
              "    <tr>\n",
              "      <th>1</th>\n",
              "      <td>1</td>\n",
              "    </tr>\n",
              "    <tr>\n",
              "      <th>2</th>\n",
              "      <td>23</td>\n",
              "    </tr>\n",
              "    <tr>\n",
              "      <th>3</th>\n",
              "      <td>13</td>\n",
              "    </tr>\n",
              "  </tbody>\n",
              "</table>\n",
              "</div><br><label><b>dtype:</b> int64</label>"
            ]
          },
          "metadata": {},
          "execution_count": 58
        }
      ]
    },
    {
      "cell_type": "code",
      "source": [
        "vk.tail(10)"
      ],
      "metadata": {
        "colab": {
          "base_uri": "https://localhost:8080/",
          "height": 429
        },
        "id": "S5St_OwODto7",
        "outputId": "7d9cd633-58b6-4041-99dd-3dd0fa673a5a"
      },
      "execution_count": null,
      "outputs": [
        {
          "output_type": "execute_result",
          "data": {
            "text/plain": [
              "match_no\n",
              "206     0\n",
              "207     0\n",
              "208     9\n",
              "209    58\n",
              "210    30\n",
              "211     0\n",
              "212    20\n",
              "213    73\n",
              "214    25\n",
              "215     7\n",
              "Name: runs, dtype: int64"
            ],
            "text/html": [
              "<div>\n",
              "<style scoped>\n",
              "    .dataframe tbody tr th:only-of-type {\n",
              "        vertical-align: middle;\n",
              "    }\n",
              "\n",
              "    .dataframe tbody tr th {\n",
              "        vertical-align: top;\n",
              "    }\n",
              "\n",
              "    .dataframe thead th {\n",
              "        text-align: right;\n",
              "    }\n",
              "</style>\n",
              "<table border=\"1\" class=\"dataframe\">\n",
              "  <thead>\n",
              "    <tr style=\"text-align: right;\">\n",
              "      <th></th>\n",
              "      <th>runs</th>\n",
              "    </tr>\n",
              "    <tr>\n",
              "      <th>match_no</th>\n",
              "      <th></th>\n",
              "    </tr>\n",
              "  </thead>\n",
              "  <tbody>\n",
              "    <tr>\n",
              "      <th>206</th>\n",
              "      <td>0</td>\n",
              "    </tr>\n",
              "    <tr>\n",
              "      <th>207</th>\n",
              "      <td>0</td>\n",
              "    </tr>\n",
              "    <tr>\n",
              "      <th>208</th>\n",
              "      <td>9</td>\n",
              "    </tr>\n",
              "    <tr>\n",
              "      <th>209</th>\n",
              "      <td>58</td>\n",
              "    </tr>\n",
              "    <tr>\n",
              "      <th>210</th>\n",
              "      <td>30</td>\n",
              "    </tr>\n",
              "    <tr>\n",
              "      <th>211</th>\n",
              "      <td>0</td>\n",
              "    </tr>\n",
              "    <tr>\n",
              "      <th>212</th>\n",
              "      <td>20</td>\n",
              "    </tr>\n",
              "    <tr>\n",
              "      <th>213</th>\n",
              "      <td>73</td>\n",
              "    </tr>\n",
              "    <tr>\n",
              "      <th>214</th>\n",
              "      <td>25</td>\n",
              "    </tr>\n",
              "    <tr>\n",
              "      <th>215</th>\n",
              "      <td>7</td>\n",
              "    </tr>\n",
              "  </tbody>\n",
              "</table>\n",
              "</div><br><label><b>dtype:</b> int64</label>"
            ]
          },
          "metadata": {},
          "execution_count": 66
        }
      ]
    },
    {
      "cell_type": "code",
      "source": [
        "# sample\n",
        "movies.sample(3)"
      ],
      "metadata": {
        "colab": {
          "base_uri": "https://localhost:8080/",
          "height": 209
        },
        "id": "COKh4XYBLqT3",
        "outputId": "3806261e-97e6-42fa-f3a5-4c51a7ba04d7"
      },
      "execution_count": null,
      "outputs": [
        {
          "output_type": "execute_result",
          "data": {
            "text/plain": [
              "movie\n",
              "Inkaar (2013 film)            Arjun Rampal\n",
              "Made in China (2019 film)    Rajkummar Rao\n",
              "Ek Kahani Julie Ki            Jimmy Sharma\n",
              "Name: lead, dtype: object"
            ],
            "text/html": [
              "<div>\n",
              "<style scoped>\n",
              "    .dataframe tbody tr th:only-of-type {\n",
              "        vertical-align: middle;\n",
              "    }\n",
              "\n",
              "    .dataframe tbody tr th {\n",
              "        vertical-align: top;\n",
              "    }\n",
              "\n",
              "    .dataframe thead th {\n",
              "        text-align: right;\n",
              "    }\n",
              "</style>\n",
              "<table border=\"1\" class=\"dataframe\">\n",
              "  <thead>\n",
              "    <tr style=\"text-align: right;\">\n",
              "      <th></th>\n",
              "      <th>lead</th>\n",
              "    </tr>\n",
              "    <tr>\n",
              "      <th>movie</th>\n",
              "      <th></th>\n",
              "    </tr>\n",
              "  </thead>\n",
              "  <tbody>\n",
              "    <tr>\n",
              "      <th>Inkaar (2013 film)</th>\n",
              "      <td>Arjun Rampal</td>\n",
              "    </tr>\n",
              "    <tr>\n",
              "      <th>Made in China (2019 film)</th>\n",
              "      <td>Rajkummar Rao</td>\n",
              "    </tr>\n",
              "    <tr>\n",
              "      <th>Ek Kahani Julie Ki</th>\n",
              "      <td>Jimmy Sharma</td>\n",
              "    </tr>\n",
              "  </tbody>\n",
              "</table>\n",
              "</div><br><label><b>dtype:</b> object</label>"
            ]
          },
          "metadata": {},
          "execution_count": 76
        }
      ]
    },
    {
      "cell_type": "code",
      "source": [
        "# value_counts -> movies\n",
        "movies.value_counts().head(5)"
      ],
      "metadata": {
        "colab": {
          "base_uri": "https://localhost:8080/",
          "height": 272
        },
        "id": "t3m4wTw6N-v0",
        "outputId": "a0a93927-2309-4c8f-87e4-2875e00c330d"
      },
      "execution_count": null,
      "outputs": [
        {
          "output_type": "execute_result",
          "data": {
            "text/plain": [
              "lead\n",
              "Akshay Kumar        48\n",
              "Amitabh Bachchan    45\n",
              "Ajay Devgn          38\n",
              "Salman Khan         31\n",
              "Sanjay Dutt         26\n",
              "Name: count, dtype: int64"
            ],
            "text/html": [
              "<div>\n",
              "<style scoped>\n",
              "    .dataframe tbody tr th:only-of-type {\n",
              "        vertical-align: middle;\n",
              "    }\n",
              "\n",
              "    .dataframe tbody tr th {\n",
              "        vertical-align: top;\n",
              "    }\n",
              "\n",
              "    .dataframe thead th {\n",
              "        text-align: right;\n",
              "    }\n",
              "</style>\n",
              "<table border=\"1\" class=\"dataframe\">\n",
              "  <thead>\n",
              "    <tr style=\"text-align: right;\">\n",
              "      <th></th>\n",
              "      <th>count</th>\n",
              "    </tr>\n",
              "    <tr>\n",
              "      <th>lead</th>\n",
              "      <th></th>\n",
              "    </tr>\n",
              "  </thead>\n",
              "  <tbody>\n",
              "    <tr>\n",
              "      <th>Akshay Kumar</th>\n",
              "      <td>48</td>\n",
              "    </tr>\n",
              "    <tr>\n",
              "      <th>Amitabh Bachchan</th>\n",
              "      <td>45</td>\n",
              "    </tr>\n",
              "    <tr>\n",
              "      <th>Ajay Devgn</th>\n",
              "      <td>38</td>\n",
              "    </tr>\n",
              "    <tr>\n",
              "      <th>Salman Khan</th>\n",
              "      <td>31</td>\n",
              "    </tr>\n",
              "    <tr>\n",
              "      <th>Sanjay Dutt</th>\n",
              "      <td>26</td>\n",
              "    </tr>\n",
              "  </tbody>\n",
              "</table>\n",
              "</div><br><label><b>dtype:</b> int64</label>"
            ]
          },
          "metadata": {},
          "execution_count": 81
        }
      ]
    },
    {
      "cell_type": "code",
      "source": [
        "# sort_values -> inplace\n",
        "vk.sort_values(ascending=False).head(1).values[0]"
      ],
      "metadata": {
        "colab": {
          "base_uri": "https://localhost:8080/"
        },
        "id": "vzMt0ZOPMgpO",
        "outputId": "e39a8666-d38e-4139-8239-5796f9a15a9c"
      },
      "execution_count": 18,
      "outputs": [
        {
          "output_type": "execute_result",
          "data": {
            "text/plain": [
              "np.int64(113)"
            ]
          },
          "metadata": {},
          "execution_count": 18
        }
      ]
    },
    {
      "cell_type": "code",
      "source": [
        "vk.sort_values(ascending=False)"
      ],
      "metadata": {
        "colab": {
          "base_uri": "https://localhost:8080/",
          "height": 489
        },
        "id": "5Psr0lEwGE2i",
        "outputId": "284c3fb0-061c-4732-e50d-eec8bc27f249"
      },
      "execution_count": null,
      "outputs": [
        {
          "output_type": "execute_result",
          "data": {
            "text/plain": [
              "match_no\n",
              "128    113\n",
              "126    109\n",
              "123    108\n",
              "120    100\n",
              "164    100\n",
              "      ... \n",
              "93       0\n",
              "130      0\n",
              "206      0\n",
              "207      0\n",
              "211      0\n",
              "Name: runs, Length: 215, dtype: int64"
            ],
            "text/html": [
              "<div>\n",
              "<style scoped>\n",
              "    .dataframe tbody tr th:only-of-type {\n",
              "        vertical-align: middle;\n",
              "    }\n",
              "\n",
              "    .dataframe tbody tr th {\n",
              "        vertical-align: top;\n",
              "    }\n",
              "\n",
              "    .dataframe thead th {\n",
              "        text-align: right;\n",
              "    }\n",
              "</style>\n",
              "<table border=\"1\" class=\"dataframe\">\n",
              "  <thead>\n",
              "    <tr style=\"text-align: right;\">\n",
              "      <th></th>\n",
              "      <th>runs</th>\n",
              "    </tr>\n",
              "    <tr>\n",
              "      <th>match_no</th>\n",
              "      <th></th>\n",
              "    </tr>\n",
              "  </thead>\n",
              "  <tbody>\n",
              "    <tr>\n",
              "      <th>128</th>\n",
              "      <td>113</td>\n",
              "    </tr>\n",
              "    <tr>\n",
              "      <th>126</th>\n",
              "      <td>109</td>\n",
              "    </tr>\n",
              "    <tr>\n",
              "      <th>123</th>\n",
              "      <td>108</td>\n",
              "    </tr>\n",
              "    <tr>\n",
              "      <th>120</th>\n",
              "      <td>100</td>\n",
              "    </tr>\n",
              "    <tr>\n",
              "      <th>164</th>\n",
              "      <td>100</td>\n",
              "    </tr>\n",
              "    <tr>\n",
              "      <th>...</th>\n",
              "      <td>...</td>\n",
              "    </tr>\n",
              "    <tr>\n",
              "      <th>93</th>\n",
              "      <td>0</td>\n",
              "    </tr>\n",
              "    <tr>\n",
              "      <th>130</th>\n",
              "      <td>0</td>\n",
              "    </tr>\n",
              "    <tr>\n",
              "      <th>206</th>\n",
              "      <td>0</td>\n",
              "    </tr>\n",
              "    <tr>\n",
              "      <th>207</th>\n",
              "      <td>0</td>\n",
              "    </tr>\n",
              "    <tr>\n",
              "      <th>211</th>\n",
              "      <td>0</td>\n",
              "    </tr>\n",
              "  </tbody>\n",
              "</table>\n",
              "<p>215 rows × 1 columns</p>\n",
              "</div><br><label><b>dtype:</b> int64</label>"
            ]
          },
          "metadata": {},
          "execution_count": 85
        }
      ]
    },
    {
      "cell_type": "code",
      "source": [
        "# sort_index -> inplace -> movies\n",
        "movies.sort_index(inplace=True) # inplace=True -> permanently changes the data"
      ],
      "metadata": {
        "id": "Z0t20LmCNZVi"
      },
      "execution_count": null,
      "outputs": []
    },
    {
      "cell_type": "code",
      "source": [
        "movies.head()"
      ],
      "metadata": {
        "colab": {
          "base_uri": "https://localhost:8080/",
          "height": 272
        },
        "id": "pyFYColfG3LP",
        "outputId": "149dd495-ffe7-44c5-f215-e018c7171aa3"
      },
      "execution_count": null,
      "outputs": [
        {
          "output_type": "execute_result",
          "data": {
            "text/plain": [
              "movie\n",
              "1920 (film)               Rajniesh Duggall\n",
              "1920: London                 Sharman Joshi\n",
              "1920: The Evil Returns         Vicky Ahuja\n",
              "1971 (2007 film)            Manoj Bajpayee\n",
              "2 States (2014 film)          Arjun Kapoor\n",
              "Name: lead, dtype: object"
            ],
            "text/html": [
              "<div>\n",
              "<style scoped>\n",
              "    .dataframe tbody tr th:only-of-type {\n",
              "        vertical-align: middle;\n",
              "    }\n",
              "\n",
              "    .dataframe tbody tr th {\n",
              "        vertical-align: top;\n",
              "    }\n",
              "\n",
              "    .dataframe thead th {\n",
              "        text-align: right;\n",
              "    }\n",
              "</style>\n",
              "<table border=\"1\" class=\"dataframe\">\n",
              "  <thead>\n",
              "    <tr style=\"text-align: right;\">\n",
              "      <th></th>\n",
              "      <th>lead</th>\n",
              "    </tr>\n",
              "    <tr>\n",
              "      <th>movie</th>\n",
              "      <th></th>\n",
              "    </tr>\n",
              "  </thead>\n",
              "  <tbody>\n",
              "    <tr>\n",
              "      <th>1920 (film)</th>\n",
              "      <td>Rajniesh Duggall</td>\n",
              "    </tr>\n",
              "    <tr>\n",
              "      <th>1920: London</th>\n",
              "      <td>Sharman Joshi</td>\n",
              "    </tr>\n",
              "    <tr>\n",
              "      <th>1920: The Evil Returns</th>\n",
              "      <td>Vicky Ahuja</td>\n",
              "    </tr>\n",
              "    <tr>\n",
              "      <th>1971 (2007 film)</th>\n",
              "      <td>Manoj Bajpayee</td>\n",
              "    </tr>\n",
              "    <tr>\n",
              "      <th>2 States (2014 film)</th>\n",
              "      <td>Arjun Kapoor</td>\n",
              "    </tr>\n",
              "  </tbody>\n",
              "</table>\n",
              "</div><br><label><b>dtype:</b> object</label>"
            ]
          },
          "metadata": {},
          "execution_count": 107
        }
      ]
    },
    {
      "cell_type": "markdown",
      "source": [
        "If ascending is not specified, it defaults to True, meaning the index is sorted in ascending order (A-Z, 0-9, etc.)."
      ],
      "metadata": {
        "id": "ObWH631yHyqn"
      }
    },
    {
      "cell_type": "code",
      "source": [
        "vk.sort_values(inplace=True)"
      ],
      "metadata": {
        "id": "XwHA77x2GJtb"
      },
      "execution_count": null,
      "outputs": []
    },
    {
      "cell_type": "code",
      "source": [
        "vk"
      ],
      "metadata": {
        "colab": {
          "base_uri": "https://localhost:8080/"
        },
        "id": "44qVilrDGWCK",
        "outputId": "98dc5995-4849-4450-c089-06558ac4f48d"
      },
      "execution_count": null,
      "outputs": [
        {
          "output_type": "execute_result",
          "data": {
            "text/plain": [
              "match_no\n",
              "87       0\n",
              "211      0\n",
              "207      0\n",
              "206      0\n",
              "91       0\n",
              "      ... \n",
              "164    100\n",
              "120    100\n",
              "123    108\n",
              "126    109\n",
              "128    113\n",
              "Name: runs, Length: 215, dtype: int64"
            ]
          },
          "metadata": {},
          "execution_count": 69
        }
      ]
    },
    {
      "cell_type": "markdown",
      "source": [
        "### Series Maths Methods"
      ],
      "metadata": {
        "id": "58RZWU44Tj_U"
      }
    },
    {
      "cell_type": "code",
      "source": [
        "# count\n",
        "vk.count()"
      ],
      "metadata": {
        "colab": {
          "base_uri": "https://localhost:8080/"
        },
        "id": "6GzHd8BPToFa",
        "outputId": "c2aa9e18-2ec0-49c5-ab62-61928d1068e3"
      },
      "execution_count": null,
      "outputs": [
        {
          "output_type": "execute_result",
          "data": {
            "text/plain": [
              "215"
            ]
          },
          "metadata": {},
          "execution_count": 77
        }
      ]
    },
    {
      "cell_type": "code",
      "source": [
        "# sum -> product\n",
        "subs.sum()"
      ],
      "metadata": {
        "colab": {
          "base_uri": "https://localhost:8080/"
        },
        "id": "QAUr7vxtTrAU",
        "outputId": "b63afaa2-bf2f-409b-bd54-db2865c9d4fa"
      },
      "execution_count": null,
      "outputs": [
        {
          "output_type": "execute_result",
          "data": {
            "text/plain": [
              "49510"
            ]
          },
          "metadata": {},
          "execution_count": 81
        }
      ]
    },
    {
      "cell_type": "code",
      "source": [
        "# mean -> median -> mode -> std -> var\n",
        "subs.mean()\n",
        "print(vk.median())\n",
        "print(movies.mode())\n",
        "print(subs.std())\n",
        "print(vk.var())"
      ],
      "metadata": {
        "colab": {
          "base_uri": "https://localhost:8080/"
        },
        "id": "q1pRRhmdTrM0",
        "outputId": "73513194-bf6d-4598-fa12-ab715c9127ff"
      },
      "execution_count": 20,
      "outputs": [
        {
          "output_type": "stream",
          "name": "stdout",
          "text": [
            "24.0\n",
            "0    Akshay Kumar\n",
            "Name: lead, dtype: object\n",
            "62.67502303725269\n",
            "688.0024777222344\n"
          ]
        }
      ]
    },
    {
      "cell_type": "code",
      "source": [
        "# min/max\n",
        "subs.max()"
      ],
      "metadata": {
        "colab": {
          "base_uri": "https://localhost:8080/"
        },
        "id": "L64dQIXJTrXF",
        "outputId": "54e6f3fa-e75f-4382-8c02-d9ba8466285a"
      },
      "execution_count": null,
      "outputs": [
        {
          "output_type": "execute_result",
          "data": {
            "text/plain": [
              "396"
            ]
          },
          "metadata": {},
          "execution_count": 88
        }
      ]
    },
    {
      "cell_type": "code",
      "source": [
        "# describe\n",
        "vk.describe()"
      ],
      "metadata": {
        "colab": {
          "base_uri": "https://localhost:8080/",
          "height": 335
        },
        "id": "SAvniKCuUB_J",
        "outputId": "db9d4232-621b-4fb7-8119-cb08d514dc7c"
      },
      "execution_count": 22,
      "outputs": [
        {
          "output_type": "execute_result",
          "data": {
            "text/plain": [
              "count    215.000000\n",
              "mean      30.855814\n",
              "std       26.229801\n",
              "min        0.000000\n",
              "25%        9.000000\n",
              "50%       24.000000\n",
              "75%       48.000000\n",
              "max      113.000000\n",
              "Name: runs, dtype: float64"
            ],
            "text/html": [
              "<div>\n",
              "<style scoped>\n",
              "    .dataframe tbody tr th:only-of-type {\n",
              "        vertical-align: middle;\n",
              "    }\n",
              "\n",
              "    .dataframe tbody tr th {\n",
              "        vertical-align: top;\n",
              "    }\n",
              "\n",
              "    .dataframe thead th {\n",
              "        text-align: right;\n",
              "    }\n",
              "</style>\n",
              "<table border=\"1\" class=\"dataframe\">\n",
              "  <thead>\n",
              "    <tr style=\"text-align: right;\">\n",
              "      <th></th>\n",
              "      <th>runs</th>\n",
              "    </tr>\n",
              "  </thead>\n",
              "  <tbody>\n",
              "    <tr>\n",
              "      <th>count</th>\n",
              "      <td>215.000000</td>\n",
              "    </tr>\n",
              "    <tr>\n",
              "      <th>mean</th>\n",
              "      <td>30.855814</td>\n",
              "    </tr>\n",
              "    <tr>\n",
              "      <th>std</th>\n",
              "      <td>26.229801</td>\n",
              "    </tr>\n",
              "    <tr>\n",
              "      <th>min</th>\n",
              "      <td>0.000000</td>\n",
              "    </tr>\n",
              "    <tr>\n",
              "      <th>25%</th>\n",
              "      <td>9.000000</td>\n",
              "    </tr>\n",
              "    <tr>\n",
              "      <th>50%</th>\n",
              "      <td>24.000000</td>\n",
              "    </tr>\n",
              "    <tr>\n",
              "      <th>75%</th>\n",
              "      <td>48.000000</td>\n",
              "    </tr>\n",
              "    <tr>\n",
              "      <th>max</th>\n",
              "      <td>113.000000</td>\n",
              "    </tr>\n",
              "  </tbody>\n",
              "</table>\n",
              "</div><br><label><b>dtype:</b> float64</label>"
            ]
          },
          "metadata": {},
          "execution_count": 22
        }
      ]
    },
    {
      "cell_type": "markdown",
      "source": [
        "### Series Indexing"
      ],
      "metadata": {
        "id": "Cz12N8YKP-h8"
      }
    },
    {
      "cell_type": "code",
      "source": [
        "# integer indexing\n",
        "x = pd.Series([12,13,14,35,46,57,58,79,9])\n",
        "x"
      ],
      "metadata": {
        "colab": {
          "base_uri": "https://localhost:8080/",
          "height": 366
        },
        "id": "VXMiwNgAQA4V",
        "outputId": "24f47c8a-f092-4397-f67c-a5926b466044"
      },
      "execution_count": 23,
      "outputs": [
        {
          "output_type": "execute_result",
          "data": {
            "text/plain": [
              "0    12\n",
              "1    13\n",
              "2    14\n",
              "3    35\n",
              "4    46\n",
              "5    57\n",
              "6    58\n",
              "7    79\n",
              "8     9\n",
              "dtype: int64"
            ],
            "text/html": [
              "<div>\n",
              "<style scoped>\n",
              "    .dataframe tbody tr th:only-of-type {\n",
              "        vertical-align: middle;\n",
              "    }\n",
              "\n",
              "    .dataframe tbody tr th {\n",
              "        vertical-align: top;\n",
              "    }\n",
              "\n",
              "    .dataframe thead th {\n",
              "        text-align: right;\n",
              "    }\n",
              "</style>\n",
              "<table border=\"1\" class=\"dataframe\">\n",
              "  <thead>\n",
              "    <tr style=\"text-align: right;\">\n",
              "      <th></th>\n",
              "      <th>0</th>\n",
              "    </tr>\n",
              "  </thead>\n",
              "  <tbody>\n",
              "    <tr>\n",
              "      <th>0</th>\n",
              "      <td>12</td>\n",
              "    </tr>\n",
              "    <tr>\n",
              "      <th>1</th>\n",
              "      <td>13</td>\n",
              "    </tr>\n",
              "    <tr>\n",
              "      <th>2</th>\n",
              "      <td>14</td>\n",
              "    </tr>\n",
              "    <tr>\n",
              "      <th>3</th>\n",
              "      <td>35</td>\n",
              "    </tr>\n",
              "    <tr>\n",
              "      <th>4</th>\n",
              "      <td>46</td>\n",
              "    </tr>\n",
              "    <tr>\n",
              "      <th>5</th>\n",
              "      <td>57</td>\n",
              "    </tr>\n",
              "    <tr>\n",
              "      <th>6</th>\n",
              "      <td>58</td>\n",
              "    </tr>\n",
              "    <tr>\n",
              "      <th>7</th>\n",
              "      <td>79</td>\n",
              "    </tr>\n",
              "    <tr>\n",
              "      <th>8</th>\n",
              "      <td>9</td>\n",
              "    </tr>\n",
              "  </tbody>\n",
              "</table>\n",
              "</div><br><label><b>dtype:</b> int64</label>"
            ]
          },
          "metadata": {},
          "execution_count": 23
        }
      ]
    },
    {
      "cell_type": "code",
      "source": [
        "# negative indexing\n",
        "# x[-1]"
      ],
      "metadata": {
        "id": "uL2i-qNuQ6t8"
      },
      "execution_count": 25,
      "outputs": []
    },
    {
      "cell_type": "code",
      "source": [
        "movies"
      ],
      "metadata": {
        "colab": {
          "base_uri": "https://localhost:8080/"
        },
        "id": "9BKWa4-fKugd",
        "outputId": "3d9fbab1-9295-4307-be08-e9574d3d267d"
      },
      "execution_count": null,
      "outputs": [
        {
          "output_type": "execute_result",
          "data": {
            "text/plain": [
              "movie\n",
              "Zor Lagaa Ke...Haiya!            Meghan Jadhav\n",
              "Zokkomon                       Darsheel Safary\n",
              "Zindagi Tere Naam           Mithun Chakraborty\n",
              "Zindagi Na Milegi Dobara        Hrithik Roshan\n",
              "Zindagi 50-50                      Veena Malik\n",
              "                                   ...        \n",
              "2 States (2014 film)              Arjun Kapoor\n",
              "1971 (2007 film)                Manoj Bajpayee\n",
              "1920: The Evil Returns             Vicky Ahuja\n",
              "1920: London                     Sharman Joshi\n",
              "1920 (film)                   Rajniesh Duggall\n",
              "Name: lead, Length: 1500, dtype: object"
            ]
          },
          "metadata": {},
          "execution_count": 105
        }
      ]
    },
    {
      "cell_type": "code",
      "source": [
        "# vk[-1]"
      ],
      "metadata": {
        "id": "UdfXS16jLVIo"
      },
      "execution_count": 27,
      "outputs": []
    },
    {
      "cell_type": "code",
      "source": [
        "marks_series[-1]"
      ],
      "metadata": {
        "colab": {
          "base_uri": "https://localhost:8080/"
        },
        "id": "-7Gr3pwlLgx8",
        "outputId": "c1cf02c2-9857-49f5-f49e-8019789fff6c"
      },
      "execution_count": null,
      "outputs": [
        {
          "output_type": "execute_result",
          "data": {
            "text/plain": [
              "100"
            ]
          },
          "metadata": {},
          "execution_count": 109
        }
      ]
    },
    {
      "cell_type": "code",
      "source": [
        "# slicing\n",
        "vk[5:16]"
      ],
      "metadata": {
        "colab": {
          "base_uri": "https://localhost:8080/"
        },
        "id": "0Aok361MQA8J",
        "outputId": "a31e2b7e-53a5-499f-ccb2-f9276a0b3139"
      },
      "execution_count": null,
      "outputs": [
        {
          "output_type": "execute_result",
          "data": {
            "text/plain": [
              "match_no\n",
              "6      9\n",
              "7     34\n",
              "8      0\n",
              "9     21\n",
              "10     3\n",
              "11    10\n",
              "12    38\n",
              "13     3\n",
              "14    11\n",
              "15    50\n",
              "16     2\n",
              "Name: runs, dtype: int64"
            ]
          },
          "metadata": {},
          "execution_count": 110
        }
      ]
    },
    {
      "cell_type": "code",
      "source": [
        "# negative slicing\n",
        "vk[-5:]"
      ],
      "metadata": {
        "colab": {
          "base_uri": "https://localhost:8080/"
        },
        "id": "Liu7rQJbQ9GW",
        "outputId": "c205b3f2-e431-4e2c-8a52-57b701b806e7"
      },
      "execution_count": null,
      "outputs": [
        {
          "output_type": "execute_result",
          "data": {
            "text/plain": [
              "match_no\n",
              "211     0\n",
              "212    20\n",
              "213    73\n",
              "214    25\n",
              "215     7\n",
              "Name: runs, dtype: int64"
            ]
          },
          "metadata": {},
          "execution_count": 111
        }
      ]
    },
    {
      "cell_type": "code",
      "source": [
        "movies[::2]"
      ],
      "metadata": {
        "colab": {
          "base_uri": "https://localhost:8080/"
        },
        "id": "BE4kLq1vMSes",
        "outputId": "ff5de4e4-5b80-484c-9241-72de04792aa8"
      },
      "execution_count": null,
      "outputs": [
        {
          "output_type": "execute_result",
          "data": {
            "text/plain": [
              "movie\n",
              "Zor Lagaa Ke...Haiya!         Meghan Jadhav\n",
              "Zindagi Tere Naam        Mithun Chakraborty\n",
              "Zindagi 50-50                   Veena Malik\n",
              "Zinda (film)                    Sanjay Dutt\n",
              "Zid (2014 film)              Mannara Chopra\n",
              "                                ...        \n",
              "3 Storeys                       Aisha Ahmed\n",
              "3 Deewarein                Naseeruddin Shah\n",
              "22 Yards                        Barun Sobti\n",
              "1971 (2007 film)             Manoj Bajpayee\n",
              "1920: London                  Sharman Joshi\n",
              "Name: lead, Length: 750, dtype: object"
            ]
          },
          "metadata": {},
          "execution_count": 113
        }
      ]
    },
    {
      "cell_type": "code",
      "source": [
        "# Fancy indexing\n",
        "vk[[1,3,4,5]]"
      ],
      "metadata": {
        "colab": {
          "base_uri": "https://localhost:8080/"
        },
        "id": "QjB-8CydQA_W",
        "outputId": "9bcace4d-f461-4a12-83f4-ebc6d620d943"
      },
      "execution_count": null,
      "outputs": [
        {
          "output_type": "execute_result",
          "data": {
            "text/plain": [
              "match_no\n",
              "1     1\n",
              "3    13\n",
              "4    12\n",
              "5     1\n",
              "Name: runs, dtype: int64"
            ]
          },
          "metadata": {},
          "execution_count": 114
        }
      ]
    },
    {
      "cell_type": "code",
      "source": [
        "# Indexing with labels -> fancy indexing\n",
        "movies['Zindagi Tere Naam']"
      ],
      "metadata": {
        "colab": {
          "base_uri": "https://localhost:8080/",
          "height": 36
        },
        "id": "m4y-6vjTQBCP",
        "outputId": "d1b905ab-261d-45c9-b017-9ba98848e856"
      },
      "execution_count": 29,
      "outputs": [
        {
          "output_type": "execute_result",
          "data": {
            "text/plain": [
              "'Mithun Chakraborty'"
            ],
            "application/vnd.google.colaboratory.intrinsic+json": {
              "type": "string"
            }
          },
          "metadata": {},
          "execution_count": 29
        }
      ]
    },
    {
      "cell_type": "markdown",
      "source": [
        "### Editing Series"
      ],
      "metadata": {
        "id": "NFElpr-tR5en"
      }
    },
    {
      "cell_type": "code",
      "source": [
        "# using indexing\n",
        "marks_series.iloc[1] = 90\n",
        "marks_series"
      ],
      "metadata": {
        "colab": {
          "base_uri": "https://localhost:8080/",
          "height": 209
        },
        "id": "bMaxSAmfR8JQ",
        "outputId": "a588a5d5-cb3a-4a9f-f435-4aa0f6e87b75"
      },
      "execution_count": 34,
      "outputs": [
        {
          "output_type": "execute_result",
          "data": {
            "text/plain": [
              "maths       67\n",
              "english     90\n",
              "science     89\n",
              "hindi      100\n",
              "Name: Abhisek Gupta marks, dtype: int64"
            ],
            "text/html": [
              "<div>\n",
              "<style scoped>\n",
              "    .dataframe tbody tr th:only-of-type {\n",
              "        vertical-align: middle;\n",
              "    }\n",
              "\n",
              "    .dataframe tbody tr th {\n",
              "        vertical-align: top;\n",
              "    }\n",
              "\n",
              "    .dataframe thead th {\n",
              "        text-align: right;\n",
              "    }\n",
              "</style>\n",
              "<table border=\"1\" class=\"dataframe\">\n",
              "  <thead>\n",
              "    <tr style=\"text-align: right;\">\n",
              "      <th></th>\n",
              "      <th>Abhisek Gupta marks</th>\n",
              "    </tr>\n",
              "  </thead>\n",
              "  <tbody>\n",
              "    <tr>\n",
              "      <th>maths</th>\n",
              "      <td>67</td>\n",
              "    </tr>\n",
              "    <tr>\n",
              "      <th>english</th>\n",
              "      <td>90</td>\n",
              "    </tr>\n",
              "    <tr>\n",
              "      <th>science</th>\n",
              "      <td>89</td>\n",
              "    </tr>\n",
              "    <tr>\n",
              "      <th>hindi</th>\n",
              "      <td>100</td>\n",
              "    </tr>\n",
              "  </tbody>\n",
              "</table>\n",
              "</div><br><label><b>dtype:</b> int64</label>"
            ]
          },
          "metadata": {},
          "execution_count": 34
        }
      ]
    },
    {
      "cell_type": "code",
      "source": [
        "# what if an index does not exist\n",
        "marks_series['evs'] = 100"
      ],
      "metadata": {
        "id": "p2sikMnPR8MU"
      },
      "execution_count": null,
      "outputs": []
    },
    {
      "cell_type": "code",
      "source": [
        "marks_series"
      ],
      "metadata": {
        "colab": {
          "base_uri": "https://localhost:8080/"
        },
        "id": "rmwOXl0yNjA6",
        "outputId": "66228db5-7b15-46b0-e5d8-8fc97ecee7dd"
      },
      "execution_count": null,
      "outputs": [
        {
          "output_type": "execute_result",
          "data": {
            "text/plain": [
              "maths       67\n",
              "english    100\n",
              "science     89\n",
              "hindi      100\n",
              "sst         90\n",
              "evs        100\n",
              "Name: nitish ke marks, dtype: int64"
            ]
          },
          "metadata": {},
          "execution_count": 125
        }
      ]
    },
    {
      "cell_type": "code",
      "source": [
        "# slicing\n",
        "runs_ser[2:4] = [90,80]\n",
        "runs_ser"
      ],
      "metadata": {
        "colab": {
          "base_uri": "https://localhost:8080/",
          "height": 241
        },
        "id": "bsvV3kz0R8Ps",
        "outputId": "d498529d-d096-4a08-9545-830301a96fa5"
      },
      "execution_count": 45,
      "outputs": [
        {
          "output_type": "execute_result",
          "data": {
            "text/plain": [
              "0     13\n",
              "1     24\n",
              "2     90\n",
              "3     80\n",
              "4    100\n",
              "dtype: int64"
            ],
            "text/html": [
              "<div>\n",
              "<style scoped>\n",
              "    .dataframe tbody tr th:only-of-type {\n",
              "        vertical-align: middle;\n",
              "    }\n",
              "\n",
              "    .dataframe tbody tr th {\n",
              "        vertical-align: top;\n",
              "    }\n",
              "\n",
              "    .dataframe thead th {\n",
              "        text-align: right;\n",
              "    }\n",
              "</style>\n",
              "<table border=\"1\" class=\"dataframe\">\n",
              "  <thead>\n",
              "    <tr style=\"text-align: right;\">\n",
              "      <th></th>\n",
              "      <th>0</th>\n",
              "    </tr>\n",
              "  </thead>\n",
              "  <tbody>\n",
              "    <tr>\n",
              "      <th>0</th>\n",
              "      <td>13</td>\n",
              "    </tr>\n",
              "    <tr>\n",
              "      <th>1</th>\n",
              "      <td>24</td>\n",
              "    </tr>\n",
              "    <tr>\n",
              "      <th>2</th>\n",
              "      <td>90</td>\n",
              "    </tr>\n",
              "    <tr>\n",
              "      <th>3</th>\n",
              "      <td>80</td>\n",
              "    </tr>\n",
              "    <tr>\n",
              "      <th>4</th>\n",
              "      <td>100</td>\n",
              "    </tr>\n",
              "  </tbody>\n",
              "</table>\n",
              "</div><br><label><b>dtype:</b> int64</label>"
            ]
          },
          "metadata": {},
          "execution_count": 45
        }
      ]
    },
    {
      "cell_type": "code",
      "source": [
        "# Fancy indexing\n",
        "runs_ser[[0,3,4]] = [0,0,0]\n",
        "runs_ser"
      ],
      "metadata": {
        "colab": {
          "base_uri": "https://localhost:8080/",
          "height": 241
        },
        "id": "UbXMK59FSJp7",
        "outputId": "ae4511bc-fc4c-4031-80d0-b8534d38238b"
      },
      "execution_count": 46,
      "outputs": [
        {
          "output_type": "execute_result",
          "data": {
            "text/plain": [
              "0     0\n",
              "1    24\n",
              "2    90\n",
              "3     0\n",
              "4     0\n",
              "dtype: int64"
            ],
            "text/html": [
              "<div>\n",
              "<style scoped>\n",
              "    .dataframe tbody tr th:only-of-type {\n",
              "        vertical-align: middle;\n",
              "    }\n",
              "\n",
              "    .dataframe tbody tr th {\n",
              "        vertical-align: top;\n",
              "    }\n",
              "\n",
              "    .dataframe thead th {\n",
              "        text-align: right;\n",
              "    }\n",
              "</style>\n",
              "<table border=\"1\" class=\"dataframe\">\n",
              "  <thead>\n",
              "    <tr style=\"text-align: right;\">\n",
              "      <th></th>\n",
              "      <th>0</th>\n",
              "    </tr>\n",
              "  </thead>\n",
              "  <tbody>\n",
              "    <tr>\n",
              "      <th>0</th>\n",
              "      <td>0</td>\n",
              "    </tr>\n",
              "    <tr>\n",
              "      <th>1</th>\n",
              "      <td>24</td>\n",
              "    </tr>\n",
              "    <tr>\n",
              "      <th>2</th>\n",
              "      <td>90</td>\n",
              "    </tr>\n",
              "    <tr>\n",
              "      <th>3</th>\n",
              "      <td>0</td>\n",
              "    </tr>\n",
              "    <tr>\n",
              "      <th>4</th>\n",
              "      <td>0</td>\n",
              "    </tr>\n",
              "  </tbody>\n",
              "</table>\n",
              "</div><br><label><b>dtype:</b> int64</label>"
            ]
          },
          "metadata": {},
          "execution_count": 46
        }
      ]
    },
    {
      "cell_type": "code",
      "source": [
        "# using index label\n",
        "movies['2 States (2014 film)'] = 'Alia Bhatt'\n",
        "movies"
      ],
      "metadata": {
        "colab": {
          "base_uri": "https://localhost:8080/"
        },
        "id": "D1gyqD5bSa_1",
        "outputId": "56b096fb-686b-4240-8b0f-c07de0e34e53"
      },
      "execution_count": null,
      "outputs": [
        {
          "output_type": "execute_result",
          "data": {
            "text/plain": [
              "movie\n",
              "Zor Lagaa Ke...Haiya!            Meghan Jadhav\n",
              "Zokkomon                       Darsheel Safary\n",
              "Zindagi Tere Naam           Mithun Chakraborty\n",
              "Zindagi Na Milegi Dobara        Hrithik Roshan\n",
              "Zindagi 50-50                      Veena Malik\n",
              "                                   ...        \n",
              "2 States (2014 film)                Alia Bhatt\n",
              "1971 (2007 film)                Manoj Bajpayee\n",
              "1920: The Evil Returns             Vicky Ahuja\n",
              "1920: London                     Sharman Joshi\n",
              "1920 (film)                   Rajniesh Duggall\n",
              "Name: lead, Length: 1500, dtype: object"
            ]
          },
          "metadata": {},
          "execution_count": 130
        }
      ]
    },
    {
      "cell_type": "markdown",
      "source": [
        "### Copy and Views"
      ],
      "metadata": {
        "id": "DR5SayWPSv1D"
      }
    },
    {
      "cell_type": "code",
      "source": [],
      "metadata": {
        "id": "pVND-BTBgVlN"
      },
      "execution_count": null,
      "outputs": []
    },
    {
      "cell_type": "markdown",
      "source": [
        "### Series with Python Functionalities"
      ],
      "metadata": {
        "id": "6OVEN5eFUWA-"
      }
    },
    {
      "cell_type": "code",
      "source": [
        "# len/type/dir/sorted/max/min\n",
        "print(len(subs))\n",
        "print(type(subs))\n",
        "print(dir(subs))\n",
        "print(sorted(subs))\n",
        "print(min(subs))\n",
        "print(max(subs))"
      ],
      "metadata": {
        "colab": {
          "base_uri": "https://localhost:8080/"
        },
        "id": "zebKLTsNt12p",
        "outputId": "1fc18462-7d27-4029-fe3d-cea42f00013d"
      },
      "execution_count": null,
      "outputs": [
        {
          "output_type": "stream",
          "name": "stdout",
          "text": [
            "365\n",
            "<class 'pandas.core.series.Series'>\n",
            "['T', '_AXIS_LEN', '_AXIS_ORDERS', '_AXIS_REVERSED', '_AXIS_TO_AXIS_NUMBER', '_HANDLED_TYPES', '__abs__', '__add__', '__and__', '__annotations__', '__array__', '__array_priority__', '__array_ufunc__', '__array_wrap__', '__bool__', '__class__', '__contains__', '__copy__', '__deepcopy__', '__delattr__', '__delitem__', '__dict__', '__dir__', '__divmod__', '__doc__', '__eq__', '__finalize__', '__float__', '__floordiv__', '__format__', '__ge__', '__getattr__', '__getattribute__', '__getitem__', '__getstate__', '__gt__', '__hash__', '__iadd__', '__iand__', '__ifloordiv__', '__imod__', '__imul__', '__init__', '__init_subclass__', '__int__', '__invert__', '__ior__', '__ipow__', '__isub__', '__iter__', '__itruediv__', '__ixor__', '__le__', '__len__', '__long__', '__lt__', '__matmul__', '__mod__', '__module__', '__mul__', '__ne__', '__neg__', '__new__', '__nonzero__', '__or__', '__pos__', '__pow__', '__radd__', '__rand__', '__rdivmod__', '__reduce__', '__reduce_ex__', '__repr__', '__rfloordiv__', '__rmatmul__', '__rmod__', '__rmul__', '__ror__', '__round__', '__rpow__', '__rsub__', '__rtruediv__', '__rxor__', '__setattr__', '__setitem__', '__setstate__', '__sizeof__', '__str__', '__sub__', '__subclasshook__', '__truediv__', '__weakref__', '__xor__', '_accessors', '_accum_func', '_add_numeric_operations', '_agg_by_level', '_agg_examples_doc', '_agg_see_also_doc', '_align_frame', '_align_series', '_arith_method', '_as_manager', '_attrs', '_binop', '_can_hold_na', '_check_inplace_and_allows_duplicate_labels', '_check_inplace_setting', '_check_is_chained_assignment_possible', '_check_label_or_level_ambiguity', '_check_setitem_copy', '_clear_item_cache', '_clip_with_one_bound', '_clip_with_scalar', '_cmp_method', '_consolidate', '_consolidate_inplace', '_construct_axes_dict', '_construct_axes_from_arguments', '_construct_result', '_constructor', '_constructor_expanddim', '_convert', '_convert_dtypes', '_data', '_dir_additions', '_dir_deletions', '_drop_axis', '_drop_labels_or_levels', '_duplicated', '_find_valid_index', '_flags', '_from_mgr', '_get_axis', '_get_axis_name', '_get_axis_number', '_get_axis_resolvers', '_get_block_manager_axis', '_get_bool_data', '_get_cacher', '_get_cleaned_column_resolvers', '_get_index_resolvers', '_get_label_or_level_values', '_get_numeric_data', '_get_value', '_get_values', '_get_values_tuple', '_get_with', '_gotitem', '_hidden_attrs', '_index', '_indexed_same', '_info_axis', '_info_axis_name', '_info_axis_number', '_init_dict', '_init_mgr', '_inplace_method', '_internal_names', '_internal_names_set', '_is_cached', '_is_copy', '_is_label_or_level_reference', '_is_label_reference', '_is_level_reference', '_is_mixed_type', '_is_view', '_item_cache', '_ixs', '_logical_func', '_logical_method', '_map_values', '_maybe_update_cacher', '_memory_usage', '_metadata', '_mgr', '_min_count_stat_function', '_name', '_needs_reindex_multi', '_protect_consolidate', '_reduce', '_reindex_axes', '_reindex_indexer', '_reindex_multi', '_reindex_with_indexers', '_replace_single', '_repr_data_resource_', '_repr_latex_', '_reset_cache', '_reset_cacher', '_set_as_cached', '_set_axis', '_set_axis_name', '_set_axis_nocheck', '_set_is_copy', '_set_labels', '_set_name', '_set_value', '_set_values', '_set_with', '_set_with_engine', '_slice', '_stat_axis', '_stat_axis_name', '_stat_axis_number', '_stat_function', '_stat_function_ddof', '_take_with_is_copy', '_typ', '_update_inplace', '_validate_dtype', '_values', '_where', 'abs', 'add', 'add_prefix', 'add_suffix', 'agg', 'aggregate', 'align', 'all', 'any', 'append', 'apply', 'argmax', 'argmin', 'argsort', 'array', 'asfreq', 'asof', 'astype', 'at', 'at_time', 'attrs', 'autocorr', 'axes', 'backfill', 'between', 'between_time', 'bfill', 'bool', 'clip', 'combine', 'combine_first', 'compare', 'convert_dtypes', 'copy', 'corr', 'count', 'cov', 'cummax', 'cummin', 'cumprod', 'cumsum', 'describe', 'diff', 'div', 'divide', 'divmod', 'dot', 'drop', 'drop_duplicates', 'droplevel', 'dropna', 'dtype', 'dtypes', 'duplicated', 'empty', 'eq', 'equals', 'ewm', 'expanding', 'explode', 'factorize', 'ffill', 'fillna', 'filter', 'first', 'first_valid_index', 'flags', 'floordiv', 'ge', 'get', 'groupby', 'gt', 'hasnans', 'head', 'hist', 'iat', 'idxmax', 'idxmin', 'iloc', 'index', 'infer_objects', 'interpolate', 'is_monotonic', 'is_monotonic_decreasing', 'is_monotonic_increasing', 'is_unique', 'isin', 'isna', 'isnull', 'item', 'items', 'iteritems', 'keys', 'kurt', 'kurtosis', 'last', 'last_valid_index', 'le', 'loc', 'lt', 'mad', 'map', 'mask', 'max', 'mean', 'median', 'memory_usage', 'min', 'mod', 'mode', 'mul', 'multiply', 'name', 'nbytes', 'ndim', 'ne', 'nlargest', 'notna', 'notnull', 'nsmallest', 'nunique', 'pad', 'pct_change', 'pipe', 'plot', 'pop', 'pow', 'prod', 'product', 'quantile', 'radd', 'rank', 'ravel', 'rdiv', 'rdivmod', 'reindex', 'reindex_like', 'rename', 'rename_axis', 'reorder_levels', 'repeat', 'replace', 'resample', 'reset_index', 'rfloordiv', 'rmod', 'rmul', 'rolling', 'round', 'rpow', 'rsub', 'rtruediv', 'sample', 'searchsorted', 'sem', 'set_axis', 'set_flags', 'shape', 'shift', 'size', 'skew', 'slice_shift', 'sort_index', 'sort_values', 'squeeze', 'std', 'sub', 'subtract', 'sum', 'swapaxes', 'swaplevel', 'tail', 'take', 'to_clipboard', 'to_csv', 'to_dict', 'to_excel', 'to_frame', 'to_hdf', 'to_json', 'to_latex', 'to_list', 'to_markdown', 'to_numpy', 'to_period', 'to_pickle', 'to_sql', 'to_string', 'to_timestamp', 'to_xarray', 'transform', 'transpose', 'truediv', 'truncate', 'tz_convert', 'tz_localize', 'unique', 'unstack', 'update', 'value_counts', 'values', 'var', 'view', 'where', 'xs']\n",
            "[33, 33, 35, 37, 39, 40, 40, 40, 40, 42, 42, 43, 44, 44, 44, 45, 46, 46, 48, 49, 49, 49, 49, 50, 50, 50, 51, 54, 56, 56, 56, 56, 57, 61, 62, 64, 65, 65, 66, 66, 66, 66, 67, 68, 70, 70, 70, 71, 71, 72, 72, 72, 72, 72, 73, 74, 74, 75, 76, 76, 76, 76, 77, 77, 78, 78, 78, 79, 79, 80, 80, 80, 81, 81, 82, 82, 83, 83, 83, 84, 84, 84, 85, 86, 86, 86, 87, 87, 87, 87, 88, 88, 88, 88, 88, 89, 89, 89, 90, 90, 90, 90, 91, 92, 92, 92, 93, 93, 93, 93, 95, 95, 96, 96, 96, 96, 97, 97, 98, 98, 99, 99, 100, 100, 100, 101, 101, 101, 102, 102, 103, 103, 104, 104, 104, 105, 105, 105, 105, 105, 105, 105, 105, 105, 108, 108, 108, 108, 108, 108, 109, 109, 110, 110, 110, 111, 111, 112, 113, 113, 113, 114, 114, 114, 114, 115, 115, 115, 115, 117, 117, 117, 118, 118, 119, 119, 119, 119, 120, 122, 123, 123, 123, 123, 123, 124, 125, 126, 127, 128, 128, 129, 130, 131, 131, 132, 132, 134, 134, 134, 135, 135, 136, 136, 136, 137, 138, 138, 138, 139, 140, 144, 145, 146, 146, 146, 146, 147, 149, 150, 150, 150, 150, 151, 152, 152, 152, 153, 153, 153, 154, 154, 154, 155, 155, 156, 156, 156, 156, 157, 157, 157, 157, 158, 158, 159, 159, 160, 160, 160, 160, 162, 164, 166, 167, 167, 168, 170, 170, 170, 170, 171, 172, 172, 173, 173, 173, 174, 174, 175, 175, 176, 176, 177, 178, 179, 179, 180, 180, 180, 182, 183, 183, 183, 184, 184, 184, 185, 185, 185, 185, 186, 186, 186, 188, 189, 190, 190, 192, 192, 192, 196, 196, 196, 197, 197, 202, 202, 202, 203, 204, 206, 207, 209, 210, 210, 211, 212, 213, 214, 216, 219, 220, 221, 221, 222, 222, 224, 225, 225, 226, 227, 228, 229, 230, 231, 233, 236, 236, 237, 241, 243, 244, 245, 247, 249, 254, 254, 258, 259, 259, 261, 261, 265, 267, 268, 269, 276, 276, 290, 295, 301, 306, 312, 396]\n",
            "33\n",
            "396\n"
          ]
        }
      ]
    },
    {
      "cell_type": "code",
      "source": [
        "# type conversion\n",
        "list(marks_series)"
      ],
      "metadata": {
        "colab": {
          "base_uri": "https://localhost:8080/"
        },
        "id": "ZJmwrkkgt2x4",
        "outputId": "f0f07972-6f03-4a1f-fe81-311a4ca84926"
      },
      "execution_count": null,
      "outputs": [
        {
          "output_type": "execute_result",
          "data": {
            "text/plain": [
              "[67, 100, 89, 100, 90, 100]"
            ]
          },
          "metadata": {},
          "execution_count": 138
        }
      ]
    },
    {
      "cell_type": "code",
      "source": [
        "dict(marks_series)"
      ],
      "metadata": {
        "colab": {
          "base_uri": "https://localhost:8080/"
        },
        "id": "VPV0VndRP56t",
        "outputId": "eb5c5533-2589-49c2-f6f5-970f2818d10e"
      },
      "execution_count": null,
      "outputs": [
        {
          "output_type": "execute_result",
          "data": {
            "text/plain": [
              "{'maths': 67,\n",
              " 'english': 100,\n",
              " 'science': 89,\n",
              " 'hindi': 100,\n",
              " 'sst': 90,\n",
              " 'evs': 100}"
            ]
          },
          "metadata": {},
          "execution_count": 139
        }
      ]
    },
    {
      "cell_type": "code",
      "source": [
        "# membership operator\n",
        "\n",
        "'2 States (2014 film)' in movies"
      ],
      "metadata": {
        "colab": {
          "base_uri": "https://localhost:8080/"
        },
        "id": "ScG8OTsIt3yS",
        "outputId": "8f002760-75d0-44be-d43f-a21b3b5ee84f"
      },
      "execution_count": null,
      "outputs": [
        {
          "output_type": "execute_result",
          "data": {
            "text/plain": [
              "True"
            ]
          },
          "metadata": {},
          "execution_count": 141
        }
      ]
    },
    {
      "cell_type": "code",
      "source": [
        "'Alia Bhatt' in movies.values"
      ],
      "metadata": {
        "colab": {
          "base_uri": "https://localhost:8080/"
        },
        "id": "R8woF_08QP7D",
        "outputId": "550f3d87-af4a-49c1-a321-359c88877695"
      },
      "execution_count": null,
      "outputs": [
        {
          "output_type": "execute_result",
          "data": {
            "text/plain": [
              "True"
            ]
          },
          "metadata": {},
          "execution_count": 144
        }
      ]
    },
    {
      "cell_type": "code",
      "source": [
        "movies"
      ],
      "metadata": {
        "colab": {
          "base_uri": "https://localhost:8080/"
        },
        "id": "IGjHY4OAQLCC",
        "outputId": "a1394b4a-a632-48a5-c73c-633a20956da3"
      },
      "execution_count": null,
      "outputs": [
        {
          "output_type": "execute_result",
          "data": {
            "text/plain": [
              "movie\n",
              "Zor Lagaa Ke...Haiya!            Meghan Jadhav\n",
              "Zokkomon                       Darsheel Safary\n",
              "Zindagi Tere Naam           Mithun Chakraborty\n",
              "Zindagi Na Milegi Dobara        Hrithik Roshan\n",
              "Zindagi 50-50                      Veena Malik\n",
              "                                   ...        \n",
              "2 States (2014 film)                Alia Bhatt\n",
              "1971 (2007 film)                Manoj Bajpayee\n",
              "1920: The Evil Returns             Vicky Ahuja\n",
              "1920: London                     Sharman Joshi\n",
              "1920 (film)                   Rajniesh Duggall\n",
              "Name: lead, Length: 1500, dtype: object"
            ]
          },
          "metadata": {},
          "execution_count": 142
        }
      ]
    },
    {
      "cell_type": "code",
      "source": [
        "# looping\n",
        "for i in movies:\n",
        "  print(i)"
      ],
      "metadata": {
        "colab": {
          "base_uri": "https://localhost:8080/"
        },
        "id": "IXnzfjhxt41A",
        "outputId": "2938887a-fc4e-4d52-e6a8-b1d58373bd53"
      },
      "execution_count": 47,
      "outputs": [
        {
          "output_type": "stream",
          "name": "stdout",
          "text": [
            "Vicky Kaushal\n",
            "Vicky Ahuja\n",
            "Anupam Kher\n",
            "Emraan Hashmi\n",
            "Mona Ambegaonkar\n",
            "Geetika Vidya Ohlyan\n",
            "Arshad Warsi\n",
            "Radhika Apte\n",
            "Kangana Ranaut\n",
            "Nawazuddin Siddiqui\n",
            "Ali Asgar\n",
            "Ranveer Singh\n",
            "Prit Kamani\n",
            "Ajay Devgn\n",
            "Sushant Singh Rajput\n",
            "Amitabh Bachchan\n",
            "Abhimanyu Dasani\n",
            "Talha Arshad Reshi\n",
            "Nawazuddin Siddiqui\n",
            "Garima Agarwal\n",
            "Rasika Agashe\n",
            "Barun Sobti\n",
            "Akshay Kumar\n",
            "Zaheer Iqbal\n",
            "Vidyut Jammwal\n",
            "Deepika Amin\n",
            "Manav Kaul\n",
            "Naseeruddin Shah\n",
            "Varun Dhawan\n",
            "Shreyas Talpade\n",
            "Tiger Shroff\n",
            "Boman Irani\n",
            "Ajay Devgn\n",
            "Arjun Kapoor\n",
            "Gavie Chahal\n",
            "Prabhu Deva\n",
            "Shahid Kapoor\n",
            "Ayushmann Khurrana\n",
            "Anupam Kher\n",
            "Karanvir Bohra\n",
            "Hrithik Roshan\n",
            "Jimmy Sheirgill\n",
            "John Abraham\n",
            "Rishi Kapoor\n",
            "Kangana Ranaut\n",
            "Natalia Janoszek\n",
            "Diljit Dosanjh\n",
            "Sidharth Malhotra\n",
            "Rajeev Khandelwal\n",
            "Zaira Wasim\n",
            "Akshay Kumar\n",
            "Jacqueline Fernandez\n",
            "Ayushmann Khurrana\n",
            "Akshaye Khanna\n",
            "Sonam Kapoor\n",
            "Karan Deol\n",
            "Sanjay Dutt\n",
            "Bhavesh Kumar\n",
            "Sanaya Irani\n",
            "Ayushmann Khurrana\n",
            "Siddhanth Kapoor\n",
            "Akshay Kumar\n",
            "Taapsee Pannu\n",
            "Rajkummar Rao\n",
            "Sunny Singh Nijjar\n",
            "Neil Nitin Mukesh\n",
            "Suraj Pancholi\n",
            "Boman Irani\n",
            "Riteish Deshmukh\n",
            "Nawazuddin Siddiqui\n",
            "Shahbaaz Khan\n",
            "Kriti Kharbanda\n",
            "Naseeruddin Shah\n",
            "Vardhan Puri\n",
            "Sushant Singh Rajput\n",
            "Kartik Aaryan\n",
            "Vidyut Jammwal\n",
            "Rani Mukerji\n",
            "Salman Khan\n",
            "Akshay Kumar\n",
            "Saif Ali Khan\n",
            "Kay Kay Menon\n",
            "Nora Fatehi\n",
            "Ashmit Patel\n",
            "Viineet Kumar\n",
            "Rahul Bhat\n",
            "Vicky Kaushal\n",
            "Sidharth Malhotra\n",
            "Deepika Padukone\n",
            "Geetanjali Thapa\n",
            "Akshay Anand\n",
            "Pulkit Samrat\n",
            "Kartik Aaryan\n",
            "Lee Byford\n",
            "Taapsee Pannu\n",
            "Aisha Ahmed\n",
            "Ajay Devgn\n",
            "Rani Mukerji\n",
            "Manoj Bajpayee\n",
            "Tiger Shroff\n",
            "Varun Dhawan\n",
            "Prabhu Deva\n",
            "Ishaan Khattar\n",
            "Abhay Deol\n",
            "Yogesh Raj Mishra\n",
            "Rajkummar Rao\n",
            "Alia Bhatt\n",
            "Naseeruddin Shah\n",
            "Sumeet Vyas\n",
            "Vinay Pathak\n",
            "John Abraham\n",
            "Danny Denzongpa\n",
            "Harshvardhan Kapoor\n",
            "Jimmy Sheirgill\n",
            "Anil Kapoor\n",
            "Ishaan Khattar\n",
            "Ranbir Kapoor\n",
            "Sanjay Dutt\n",
            "Dharmesh Yelande\n",
            "Taapsee Pannu\n",
            "Arjun Mathur\n",
            "Irrfan Khan\n",
            "Akshay Kumar\n",
            "John Abraham\n",
            "Sonakshi Sinha\n",
            "Utkarsh Sharma\n",
            "Dharmendra\n",
            "Rajkummar Rao\n",
            "Jackie Shroff\n",
            "Avinash Tiwary\n",
            "Manoj Bajpayee\n",
            "Paoli Dam\n",
            "Sanya Malhotra\n",
            "Shahid Kapoor\n",
            "Abhishek Bharate\n",
            "Nawazuddin Siddiqui\n",
            "Manish Anand\n",
            "Taapsee Pannu\n",
            "Jackky Bhagnani\n",
            "Anushka Sharma\n",
            "Radhika Apte\n",
            "Rhea Chakraborty\n",
            "Govinda\n",
            "Sohum Shah\n",
            "Kajol\n",
            "Arjun Kapoor\n",
            "Ayushmann Khurrana\n",
            "Ayushmann Khurrana\n",
            "Nargis Fakhri\n",
            "Aishwarya Devan\n",
            "Neil Nitin Mukesh\n",
            "Shakti Kapoor\n",
            "Amit Sadh\n",
            "Sunny Deol\n",
            "Rahul Bagga\n",
            "Sunny Deol\n",
            "Amyra Dastur\n",
            "Shah Rukh Khan\n",
            "Ranveer Singh\n",
            "Salman Khan\n",
            "Ajay Devgn\n",
            "Varun Dhawan\n",
            "Shraddha Kapoor\n",
            "Sunil Grover\n",
            "Hrithik Roshan\n",
            "Raj Arjun\n",
            "Aamir Khan\n",
            "Gurmeet Ram Rahim Singh\n",
            "Arsh Bajwa\n",
            "Rana Daggubati\n",
            "Naseeruddin Shah\n",
            "Kangana Ranaut\n",
            "Nana Patekar\n",
            "Arbaaz Khan\n",
            "Varun Dhawan\n",
            "Rajkummar Rao\n",
            "Govinda\n",
            "Rajat Kapoor\n",
            "Anushka Sharma\n",
            "Kiara Advani\n",
            "Shaurya Singh\n",
            "Pankaj Tripathi\n",
            "Taapsee Pannu\n",
            "Adil Hussain\n",
            "Amitabh Bachchan\n",
            "Sunny Leone\n",
            "Hema Malini\n",
            "Raveena Tandon\n",
            "Amitabh Bachchan\n",
            "Amardeep Insan\n",
            "Shraddha Kapoor\n",
            "Ayushmann Khurrana\n",
            "Sachin Tendulkar\n",
            "Irrfan Khan\n",
            "Himansh Kohli\n",
            "Adil Hussain\n",
            "Jayesh Raj\n",
            "Manisha Koirala\n",
            "Deepika Padukone\n",
            "Rajkummar Rao\n",
            "Salman Khan\n",
            "Riteish Deshmukh\n",
            "Shiv Darshan\n",
            "Ranbir Kapoor\n",
            "Ashish Bisht\n",
            "Aahana Kumra\n",
            "Manoj Babani\n",
            "Rajveer Ankur Singh\n",
            "Kirti Kulhari\n",
            "Shah Rukh Khan\n",
            "Tiger Shroff\n",
            "Akshay Kumar\n",
            "Anil Kapoor\n",
            "Kartik Aaryan\n",
            "Ayushmann Khurrana\n",
            "Nawazuddin Siddiqui\n",
            "Prisha Aneja\n",
            "Aadar Jain\n",
            "Ayushmann Khurrana\n",
            "Kunal Kapoor\n",
            "Arjun Rampal\n",
            "Kangana Ranaut\n",
            "Farhan Akhtar\n",
            "Sidharth Malhotra\n",
            "Hugh Bonneville\n",
            "Rishi Kapoor\n",
            "Rajkummar Rao\n",
            "Kunaal Roy Kapur\n",
            "Sunny Leone\n",
            "Shraddha Kapoor\n",
            "Rina Charaniya\n",
            "Nawazuddin Siddiqui\n",
            "Sunny Deol\n",
            "Sridevi\n",
            "Saif Ali Khan\n",
            "Soundarya Sharma\n",
            "Sudha Chandran\n",
            "Manoj Bajpayee\n",
            "Zaira Wasim\n",
            "Prakash Belawadi\n",
            "Kalki Koechlin\n",
            "Rajkummar Rao\n",
            "Richa Chadha\n",
            "Irrfan Khan\n",
            "Zareen Khan\n",
            "Nayna Bandhopadhyay\n",
            "Vidya Balan\n",
            "Nishikant Kamat\n",
            "Sanjay Mishra\n",
            "Kapil Sharma\n",
            "Pulkit Samrat\n",
            "Vijay Varma\n",
            "Sushama Deshpande\n",
            "Richa Chadha\n",
            "Prince Shah\n",
            "Tanima Bhattacharya\n",
            "Akshay Kumar\n",
            "Zeenat Aman\n",
            "Madhavan\n",
            "Tusshar Kapoor\n",
            "Tusshar Kapoor\n",
            "Himansh Kohli\n",
            "Sadhana Singh\n",
            "Sunny Deol\n",
            "Aditya Roy Kapoor\n",
            "Rishi Kapoor\n",
            "Rajniesh Duggall\n",
            "Krishna Chaturvedi\n",
            "Girish Taurani\n",
            "Sonam Kapoor\n",
            "Sukhesh Arora\n",
            "Raima Sen\n",
            "Anuj Sachdeva\n",
            "Parthaa Akerkar\n",
            "Priyanka Chopra\n",
            "Sidharth Malhotra\n",
            "John Abraham\n",
            "Patralekhaa Paul\n",
            "Shah Rukh Khan\n",
            "Swara Bhaskar\n",
            "Randeep Hooda\n",
            "Shraddha Kapoor\n",
            "Pankaj Tripathi\n",
            "Jimmy Sheirgill\n",
            "Kartik Elangovan\n",
            "Boman Irani\n",
            "Manoj Bajpayee\n",
            "Sharman Joshi\n",
            "Emraan Hashmi\n",
            "Aanchal Dwivedi\n",
            "Sanjay Singh\n",
            "Arvind Swamy\n",
            "Radhika Apte\n",
            "Randeep Hooda\n",
            "Sachiin Joshi\n",
            "Kajal Aggarwal\n",
            "Amitabh Bachchan\n",
            "Shahid Kapoor\n",
            "Hazel Croney\n",
            "V. Ravichandran\n",
            "Vipin Sharma\n",
            "Nawazuddin Siddiqui\n",
            "Pulkit Samrat\n",
            "Tannishtha Chatterjee\n",
            "Krrish Chhabria\n",
            "Avinash Dhyani\n",
            "Zeenat Aman\n",
            "Salman Khan\n",
            "Shashank Arora\n",
            "Urvashi Rautela\n",
            "Naseeruddin Shah\n",
            "Sara Loren\n",
            "Tom Alter\n",
            "Irrfan Khan\n",
            "John Abraham\n",
            "Rajeev Khandelwal\n",
            "Ileana D'Cruz\n",
            "Sahil Anand\n",
            "Hrithik Roshan\n",
            "Diana Penty\n",
            "Niharica Raizada\n",
            "Tiger Shroff\n",
            "Sidharth Malhotra\n",
            "Nawazuddin Siddiqui\n",
            "Emraan Hashmi\n",
            "Taapsee Pannu\n",
            "Tannishtha Chatterjee\n",
            "Riteish Deshmukh\n",
            "Yash Soni\n",
            "Shreyas Talpade\n",
            "Vinay Pathak\n",
            "Jimmy Sharma\n",
            "Sushant Singh Rajput\n",
            "Ashok Insan\n",
            "RJ Balaji\n",
            "Saurav Chakraborty\n",
            "Shashank Udapurkar\n",
            "Shubham\n",
            "Manoj Bajpayee\n",
            "Sunny Leone\n",
            "Aashish Bhatt\n",
            "Ajay Devgn\n",
            "Ronit Roy\n",
            "Ranbir Kapoor\n",
            "Neha Sharma\n",
            "Farhan Akhtar\n",
            "John Abraham\n",
            "Alia Bhatt\n",
            "Vaani Kapoor\n",
            "Neha Dhupia\n",
            "Jimmy Sheirgill\n",
            "Sonarika Bhadoria\n",
            "Amitabh Bachchan\n",
            "Sharman Joshi\n",
            "Aamir Khan\n",
            "Harshvardhan Kapoor\n",
            "Salman Khan\n",
            "Kangana Ranaut\n",
            "Kangana Ranaut\n",
            "Soha Ali Khan\n",
            "Prabhu Deva\n",
            "Shah Rukh Khan\n",
            "Salman Khan\n",
            "Ranveer Singh\n",
            "Anil Kapoor\n",
            "Akshay Kumar\n",
            "Akshay Kumar\n",
            "Akshay Kumar\n",
            "Akshay Kumar\n",
            "Shakti Kapoor\n",
            "Bipasha Basu\n",
            "Arjun Kapoor\n",
            "Zayed Khan\n",
            "Malaika Arora\n",
            "Naman Jain\n",
            "Gurmeet Choudhary\n",
            "Kay Kay Menon\n",
            "Rati Agnihotri\n",
            "Amitabh Bachchan\n",
            "Arjun Rampal\n",
            "Varun Dhawan\n",
            "Swanand Kirkire\n",
            "Sulabha Arya\n",
            "Irrfan Khan\n",
            "Nana Patekar\n",
            "Ayushmann Khurrana\n",
            "Anupam Kher\n",
            "Gurmeet Ram Rahim Singh\n",
            "Sidhant Gupta\n",
            "Arjun Mathur\n",
            "Ganesh Acharya\n",
            "Anushka Sharma\n",
            "Gulshan Devaiah\n",
            "Sushant Singh Rajput\n",
            "Adhyayan Suman\n",
            "Vira Sathidar\n",
            "Kalki Koechlin\n",
            "Sunny Leone\n",
            "Sara Loren\n",
            "Emraan Hashmi\n",
            "Auroshika Dey\n",
            "Ira Dubey\n",
            "Naseeruddin Shah\n",
            "Vinay Pathak\n",
            "Ram Kapoor\n",
            "Deepika Padukone\n",
            "Ranbir Kapoor\n",
            "Shakti Anand\n",
            "Anil Kapoor\n",
            "Arshad Warsi\n",
            "Meenakshi Dixit\n",
            "Yash Acharya\n",
            "Rajkummar Rao\n",
            "Rahul Bagga\n",
            "Mohit Baghel\n",
            "Rishi Verma\n",
            "Mimoh Chakraborty\n",
            "Swara Bhaskar\n",
            "Richa Chadha\n",
            "Arshad Warsi\n",
            "Mugdha Godse\n",
            "Yashpal Sharma\n",
            "Dharmendra\n",
            "Sunny Deol\n",
            "Smitha Gondkar\n",
            "Kunal Kapoor\n",
            "Ajay Devgn\n",
            "Jacqueline Fernandez\n",
            "Rishi Kapoor\n",
            "Akshay Kumar\n",
            "Vinay Pathak\n",
            "Nawazuddin Siddiqui\n",
            "Bhavita Anand\n",
            "Saif Ali Khan\n",
            "Suraj Pancholi\n",
            "Shamim Khan\n",
            "Irrfan Khan\n",
            "Suhaas Ahuja\n",
            "Jaideep Ahlawat\n",
            "Charanpreet Insan\n",
            "Akanksha Puri\n",
            "Kunal Khemu\n",
            "Aishwarya Rai Bachchan\n",
            "Seema Azmi\n",
            "Parveen Kaur\n",
            "Kapil Sharma\n",
            "Kartik Aaryan\n",
            "Diganth\n",
            "Shahid Kapoor\n",
            "Nawazuddin Siddiqui\n",
            "Kunal Khemu\n",
            "Mann Bagga\n",
            "Manish Paul\n",
            "Sanjeev Kumar\n",
            "Madhuri Dixit\n",
            "Shiv Darshan\n",
            "Gopi Desai\n",
            "Mohinder Gujral\n",
            "Zeenat Aman\n",
            "Ranveer Singh\n",
            "Salman Khan\n",
            "Sidharth Malhotra\n",
            "Adhyayan Suman\n",
            "Indrapal Ahuja\n",
            "Jimmy Sheirgill\n",
            "Abhay Deol\n",
            "Sahil Anand\n",
            "Alia Bhatt\n",
            "Sampat Pal Devi\n",
            "Farhan Akhtar\n",
            "Madhuri Dixit\n",
            "Kangana Ranaut\n",
            "Ayushmann Khurrana\n",
            "Ali Zafar\n",
            "Mahek Chahal\n",
            "Monali Thakur\n",
            "Sunny Leone\n",
            "Harman Baweja\n",
            "Sanjay Mishra\n",
            "Sharman Joshi\n",
            "Sachin Khedekar\n",
            "Leeza Mangaldas\n",
            "Pulkit Samrat\n",
            "Zara Sheikh\n",
            "Arjun Kapoor\n",
            "Purab Kohli\n",
            "Amitabh Bachchan\n",
            "Varun Dhawan\n",
            "Arvinder Bhatti\n",
            "Kanika Batra\n",
            "Jackky Bhagnani\n",
            "Rajeev Khandelwal\n",
            "Tanuj Virwani\n",
            "Vijay Raaz\n",
            "Kannan Arunachalam\n",
            "Anjori Alagh\n",
            "Satish Kaushik\n",
            "Rahul Bagga\n",
            "Himesh Reshammiya\n",
            "Farooq Shaikh\n",
            "Makrand Deshpande\n",
            "Eesha Agarwal\n",
            "Siddharth Gupta\n",
            "Tiger Shroff\n",
            "Rajkummar Rao\n",
            "Sharib Hashmi\n",
            "Kangana Ranaut\n",
            "Kartik Aaryan\n",
            "Swara Bhaskar\n",
            "Simer Motiani\n",
            "Anshuman Jha\n",
            "Sidharth Malhotra\n",
            "Vidya Balan\n",
            "Saif Ali Khan\n",
            "Varun Dhawan\n",
            "Jay Bhanushali\n",
            "Armaan Jain\n",
            "Rajesh Khanna\n",
            "Vir Das\n",
            "Akshay Kumar\n",
            "Jimmy Sheirgill\n",
            "Reshmi Ghosh\n",
            "Akshay Oberoi\n",
            "Akshay Kumar\n",
            "Anupam Kher\n",
            "Rani Mukerji\n",
            "Emraan Hashmi\n",
            "Priyanka Chopra\n",
            "Bipasha Basu\n",
            "Deepika Padukone\n",
            "Sonam Kapoor\n",
            "Salil Acharya\n",
            "Salman Khan\n",
            "Saahil Prem\n",
            "Alieesa P Badresia\n",
            "Manoj Amarnani\n",
            "Sasha Aagha\n",
            "Tabu\n",
            "Hrithik Roshan\n",
            "Rati Agnihotri\n",
            "Aditya Roy Kapoor\n",
            "Asrani\n",
            "Harshvardhan Deo\n",
            "Nikhil Dwivedi\n",
            "Karanvir Bohra\n",
            "Puru Chibber\n",
            "Soha Ali Khan\n",
            "Rhea Chakraborty\n",
            "Shah Rukh Khan\n",
            "Rekha\n",
            "Anupam Kher\n",
            "Randeep Hooda\n",
            "Akshay Kumar\n",
            "Aadil Chahal\n",
            "Shabana Azmi\n",
            "Dimple Kapadia\n",
            "Nishant Dahiya\n",
            "Ranveer Singh\n",
            "Emraan Hashmi\n",
            "Saif Ali Khan\n",
            "Vinod Acharya\n",
            "Mannara Chopra\n",
            "Prabhas\n",
            "Mischa Barton\n",
            "Shiv Panditt\n",
            "Annu Kapoor\n",
            "Barun Sobti\n",
            "Rahul Bhat\n",
            "Aamir Khan\n",
            "Adhyayan Suman\n",
            "Imran Khan\n",
            "Naveen Kasturia\n",
            "Arjun Rampal\n",
            "Sarita Joshi\n",
            "Kartik Aaryan\n",
            "Juhi Chawla\n",
            "Saif Ali Khan\n",
            "Manisha Kelkar\n",
            "Farooq Shaikh\n",
            "Akshay Kumar\n",
            "Randeep Hooda\n",
            "Vivek Oberoi\n",
            "Rajkummar Rao\n",
            "Akash\n",
            "Vishwa Mohan Badola\n",
            "Neil Nitin Mukesh\n",
            "Saqib Saleem\n",
            "Arshad Warsi\n",
            "Jimmy Sheirgill\n",
            "Asha Bhosle\n",
            "Kamal Haasan\n",
            "Jackky Bhagnani\n",
            "Aditya Roy Kapoor\n",
            "Emraan Hashmi\n",
            "Ajay Devgn\n",
            "Ayushmann Khurrana\n",
            "Vivek Oberoi\n",
            "Vidyut Jammwal\n",
            "Rani Mukerji\n",
            "Saif Ali Khan\n",
            "Riya Vij\n",
            "Arjun Kapoor\n",
            "Preity Zinta\n",
            "Veena Malik\n",
            "Ranbir Kapoor\n",
            "Pulkit Samrat\n",
            "Rupa Bhimani\n",
            "Dhanush\n",
            "Kay Kay Menon\n",
            "Neil Nitin Mukesh\n",
            "Vidya Balan\n",
            "Anupam Kher\n",
            "Sanjay Dutt\n",
            "Farhan Akhtar\n",
            "Wamiqa Gabbi\n",
            "Shadab Kamal\n",
            "Sunil Shetty\n",
            "Prateik\n",
            "Tusshar Kapoor\n",
            "Tanuj Virwani\n",
            "Poonam Pandey\n",
            "Deepak Dobriyal\n",
            "Hemant Gopal\n",
            "Joy Mukherjee\n",
            "Rishi Kapoor\n",
            "Rajesh Tailang\n",
            "Akshay Kumar\n",
            "John Abraham\n",
            "Amitabh Bachchan\n",
            "Sushant Singh Rajput\n",
            "Shruti Haasan\n",
            "Deepika Padukone\n",
            "Vivek Oberoi\n",
            "Naseeruddin Shah\n",
            "Karan Kundrra\n",
            "Shahid Kapoor\n",
            "Aida Elkashef\n",
            "Irrfan Khan\n",
            "Anisa Butt\n",
            "Akshay Kumar\n",
            "Rajkummar Rao\n",
            "Manish Paul\n",
            "Puneet Singh Ratn\n",
            "Kangana Ranaut\n",
            "Sumit Nijhawan\n",
            "Tinnu Anand\n",
            "Chandan Roy Sanyal\n",
            "Elisha Kriis\n",
            "Ashmit Patel\n",
            "Imran Khan\n",
            "Manu Rishi Chadha\n",
            "Naseeruddin Shah\n",
            "Paresh Rawal\n",
            "Saif Ali Khan\n",
            "Aamir Khan\n",
            "Ali Zafar\n",
            "Ranveer Singh\n",
            "Sharman Joshi\n",
            "Naseeruddin Shah\n",
            "Shiney Ahuja\n",
            "Karan Sharma\n",
            "Sunny Deol\n",
            "Ranveer Singh\n",
            "Hrithik Roshan\n",
            "Kareena Kapoor\n",
            "Prateik\n",
            "Kiran Bhatia\n",
            "Bipasha Basu\n",
            "Riteish Deshmukh\n",
            "Jahangir Khan\n",
            "Irrfan Khan\n",
            "Vidya Balan\n",
            "Mithun Chakraborty\n",
            "Kareena Kapoor\n",
            "Manish Chaudhary\n",
            "Kavin Dave\n",
            "Shikhi Gupta\n",
            "Archana Joglekar\n",
            "Tusshar Kapoor\n",
            "Pulkit Samrat\n",
            "Ayushmann Khurrana\n",
            "Nikhil Dwivedi\n",
            "Anil Kapoor\n",
            "Karisma Kapoor\n",
            "Arjun Kapoor\n",
            "Sanjay Dutt\n",
            "Gul Panag\n",
            "Yudhveer Bakoliya\n",
            "Kay Kay Menon\n",
            "Emraan Hashmi\n",
            "Sharman Joshi\n",
            "Shahid Kapoor\n",
            "Anupam Kher\n",
            "Anya Anand\n",
            "Julia Datt\n",
            "Manoj Bajpayee\n",
            "Manoj Bajpayee\n",
            "Saif Ali Khan\n",
            "Naresh Sharma\n",
            "Riteish Deshmukh\n",
            "Sonu Sood\n",
            "Nassar Abdulla\n",
            "Salman Khan\n",
            "Vickrant Mahajan\n",
            "Freny Bhagat\n",
            "Akshay Kumar\n",
            "Omkar Das Manikpuri\n",
            "Sunil Shetty\n",
            "Manoj Bajpayee\n",
            "Bidita Bag\n",
            "Harish Chabbra\n",
            "Ranbir Kapoor\n",
            "Kareena Kapoor\n",
            "Sagar Bhangade\n",
            "Vivek Oberoi\n",
            "Ravi Kishan\n",
            "Paresh Rawal\n",
            "Rani Mukerji\n",
            "Manoj Bajpayee\n",
            "J.D. Chakravarthi\n",
            "Cary Elwes\n",
            "Arjun Rampal\n",
            "Alia Bhatt\n",
            "Jackky Bhagnani\n",
            "Emraan Hashmi\n",
            "Vicky Ahuja\n",
            "Sunidhi Chauhan\n",
            "Asrani\n",
            "Shah Rukh Khan\n",
            "Aamir Khan\n",
            "Himanshu Bhatt\n",
            "Ajay Devgn\n",
            "Ashok Banthia\n",
            "Salman Khan\n",
            "Vinod Khanna\n",
            "Akshay Kumar\n",
            "Amitabh Bachchan\n",
            "Sridevi\n",
            "Vivek Sudershan\n",
            "Nafisa Ali\n",
            "Mohsin\n",
            "Prateik\n",
            "Gul Panag\n",
            "Vatsal Sheth\n",
            "Ajay Devgn\n",
            "Russell Geoffrey Banks\n",
            "Vinay Pathak\n",
            "Rishi Kapoor\n",
            "Priyanka Chopra\n",
            "Madhavan\n",
            "Arshad Warsi\n",
            "Deepti Naval\n",
            "Akshay Kumar\n",
            "Sumit Arora\n",
            "Anay\n",
            "Om Puri\n",
            "Abhishek Bachchan\n",
            "Sendhil Ramamurthy\n",
            "Darsheel Safary\n",
            "Vinay Pathak\n",
            "Ishaan Manhaas\n",
            "Sanjay Mishra\n",
            "Ashutosh Rana\n",
            "Juhi Chawla\n",
            "Govinda\n",
            "Mimoh Chakraborty\n",
            "Tusshar Kapoor\n",
            "Kainaz Motivala\n",
            "Partho A. Gupte\n",
            "Nana Patekar\n",
            "Sara Arjun\n",
            "Kalki Koechlin\n",
            "Kartik Aaryan\n",
            "Vinay Pathak\n",
            "Lillete Dubey\n",
            "Sanjay Dutt\n",
            "Amitabh Bachchan\n",
            "Imran Khan\n",
            "Emraan Hashmi\n",
            "Aarav Khanna\n",
            "Hrithik Roshan\n",
            "Raghuvir Yadav\n",
            "Gulshan Grover\n",
            "Naushaad Abbas\n",
            "Shefali Shah\n",
            "Ajay Devgn\n",
            "Rahul Jaiswal\n",
            "Apoorva Arora\n",
            "Isha Koppikar\n",
            "Rajniesh Duggall\n",
            "Amitabh Bachchan\n",
            "Sanjay Dutt\n",
            "Anupam Kher\n",
            "Salman Khan\n",
            "Deepshika Nagpal\n",
            "Deepak Dobriyal\n",
            "Tusshar Kapoor\n",
            "Kiron Kher\n",
            "Imran Khan\n",
            "Shahid Kapoor\n",
            "Mikaal\n",
            "John Abraham\n",
            "Jimmy Sheirgill\n",
            "Vinay Pathak\n",
            "Vinay Virmani\n",
            "Dev Anand\n",
            "Zayed Khan\n",
            "Saqib Saleem\n",
            "Sachiin Joshi\n",
            "Shah Rukh Khan\n",
            "Ranbir Kapoor\n",
            "Chirag Paswan\n",
            "Dharmendra\n",
            "Himesh Reshammiya\n",
            "Ranveer Singh\n",
            "Akshay Kumar\n",
            "Abhishek Bachchan\n",
            "Rani Mukerji\n",
            "Ajay Devgn\n",
            "Vidya Balan\n",
            "Priyanka Chopra\n",
            "Shahid Kapoor\n",
            "Prateik\n",
            "Salman Khan\n",
            "Siddharth\n",
            "Amitabh Bachchan\n",
            "Vidya Balan\n",
            "Paresh Rawal\n",
            "Sunny Gill\n",
            "Shreyas Talpade\n",
            "Tabu\n",
            "Shah Rukh Khan\n",
            "Amitabh Bachchan\n",
            "Siddhartha Gupta\n",
            "Shah Rukh Khan\n",
            "Tanushree Dutta\n",
            "Paul Sidhu\n",
            "Sunny Deol\n",
            "Gurdas Maan\n",
            "Master Shams\n",
            "Om Puri\n",
            "Vikrum Kumar\n",
            "Aditya Narayan\n",
            "Arshad Warsi\n",
            "Boman Irani\n",
            "Nana Patekar\n",
            "Priyanka Chopra\n",
            "Arbaaz Khan\n",
            "Rekha\n",
            "Rahul Bose\n",
            "Nana Patekar\n",
            "Sudeep\n",
            "Farooq Shaikh\n",
            "Rohit Roy\n",
            "Sachin Khedekar\n",
            "Anuj Saxena\n",
            "Akshay Kumar\n",
            "Hazel Croney\n",
            "Sanjeev Bhaskar\n",
            "Vivek Oberoi\n",
            "Abhishek Bachchan\n",
            "Atul Kulkarni\n",
            "Rajpal Yadav\n",
            "Hrithik Roshan\n",
            "Nushrat Bharucha\n",
            "Kareena Kapoor\n",
            "Bhushan Agarwal\n",
            "Prashant Narayanan\n",
            "Sanjay Dutt\n",
            "Akshay Kumar\n",
            "Ali Zafar\n",
            "Rajat Barmecha\n",
            "Ajay Devgn\n",
            "Bobby Deol\n",
            "Omkar Das Manikpuri\n",
            "Neil Nitin Mukesh\n",
            "Gul Panag\n",
            "Raj Singh Chaudhary\n",
            "John Abraham\n",
            "Barkha Madan\n",
            "Salman Khan\n",
            "Supriya Pathak\n",
            "Sunil Shetty\n",
            "Rituparna Sengupta\n",
            "Ranvir Shorey\n",
            "Mallika Sherawat\n",
            "Emraan Hashmi\n",
            "Rishi Kapoor\n",
            "Ajay Devgn\n",
            "Manoj Bajpayee\n",
            "Sanjay Dutt\n",
            "John Abraham\n",
            "Hrithik Roshan\n",
            "Varun Bhagwat\n",
            "Deepika Padukone\n",
            "Sunny Deol\n",
            "Rajat Kapoor\n",
            "Akanksha\n",
            "Jimmy Sheirgill\n",
            "Sanjay Dutt\n",
            "Ranveer Singh\n",
            "Aditya Srivastava\n",
            "Arunoday Singh\n",
            "Akshay Kumar\n",
            "Akshay Oberoi\n",
            "Ajay Devgn\n",
            "Neil Nitin Mukesh\n",
            "Sahil Khan\n",
            "Imran Khan\n",
            "Sushmita Sen\n",
            "Priyanka Chopra\n",
            "Zeenat Aman\n",
            "Bipasha Basu\n",
            "Akshay Kumar\n",
            "Aamir Khan\n",
            "Farhan Akhtar\n",
            "Saif Ali Khan\n",
            "Salman Khan\n",
            "Waheeda Rehman\n",
            "Kangana Ranaut\n",
            "Hrishitaa Bhatt\n",
            "Ranbir Kapoor\n",
            "Asrani\n",
            "Irrfan Khan\n",
            "Kay Kay Menon\n",
            "Arshad Warsi\n",
            "Paresh Rawal\n",
            "Rati Agnihotri\n",
            "Harman Baweja\n",
            "Shahid Kapoor\n",
            "Fardeen Khan\n",
            "John Abraham\n",
            "Kay Kay Menon\n",
            "Aftab Shivdasani\n",
            "Naseeruddin Shah\n",
            "Inaamulhaq\n",
            "Neil Nitin Mukesh\n",
            "Kunal Khemu\n",
            "Bobby Deol\n",
            "Anita\n",
            "Parzaan Dastur\n",
            "Meghan Jadhav\n",
            "Shreyas Talpade\n",
            "John Abraham\n",
            "Kay Kay Menon\n",
            "Sanjay Dutt\n",
            "Mithun Chakraborty\n",
            "Govinda\n",
            "Sunil Shetty\n",
            "Jackie Shroff\n",
            "Anupam Kher\n",
            "Shreyas Talpade\n",
            "Rishi Kapoor\n",
            "Rajendra Prasad\n",
            "Arjun Rampal\n",
            "Mithun Chakraborty\n",
            "Mithun Chakraborty\n",
            "Bobby Deol\n",
            "Shahid Kapoor\n",
            "Harman Baweja\n",
            "Fardeen Khan\n",
            "Sanjay Dutt\n",
            "Ranbir Kapoor\n",
            "Salman Khan\n",
            "Akshay Kumar\n",
            "Atmaram Bhende\n",
            "Amitabh Bachchan\n",
            "Salman Khan\n",
            "Manoj Bajpayee\n",
            "Emraan Hashmi\n",
            "Lewis Tan\n",
            "Akshay Kumar\n",
            "Amitabh Bachchan\n",
            "Ranbir Kapoor\n",
            "Aamir Bashir\n",
            "Farooq Shaikh\n",
            "Mithun Chakraborty\n",
            "Abhishek Bachchan\n",
            "Saif Ali Khan\n",
            "Shah Rukh Khan\n",
            "Aamir Khan\n",
            "Akshay Kumar\n",
            "Ajay Devgn\n",
            "Hrithik Roshan\n",
            "Ranbir Kapoor\n",
            "Amitabh Bachchan\n",
            "Amitabh Bachchan\n",
            "Ajay Devgn\n",
            "Omkar Bhatkar\n",
            "Shreyas Talpade\n",
            "Manisha Koirala\n",
            "Ajay Devgn\n",
            "Tusshar Kapoor\n",
            "Juhi Chawla\n",
            "Ajay Devgn\n",
            "Kay Kay Menon\n",
            "Akshay Kumar\n",
            "Dino Morea\n",
            "Mimoh Chakraborty\n",
            "Emraan Hashmi\n",
            "Mithun Chakraborty\n",
            "Sikander Kher\n",
            "Paresh Rawal\n",
            "Ahraz Ahmed\n",
            "Aftab Shivdasani\n",
            "Amita Pathak\n",
            "Saahil Chadha\n",
            "Saif Ali Khan\n",
            "Kay Kay Menon\n",
            "Shahid Kapoor\n",
            "Harman Baweja\n",
            "Adhvik Mahajan\n",
            "Vivek Oberoi\n",
            "Govinda\n",
            "Amitabh Bachchan\n",
            "Paresh Rawal\n",
            "Mallika Sherawat\n",
            "Arjun Rampal\n",
            "Tusshar Kapoor\n",
            "Bobby Deol\n",
            "Sammir Dattani\n",
            "Victor Banerjee\n",
            "Rajniesh Duggall\n",
            "Amitabh Bachchan\n",
            "Shreyas Talpade\n",
            "Kiron Kher\n",
            "Jackie Shroff\n",
            "Jayshree Arora\n",
            "Sharman Joshi\n",
            "Himesh Reshammiya\n",
            "Sohail Khan\n",
            "Saif Ali Khan\n",
            "Isha Koppikar\n",
            "Kamal Rashid Khan\n",
            "Priyanka Chopra\n",
            "Vinay Pathak\n",
            "Salman Khan\n",
            "Abhay Deol\n",
            "Vinay Pathak\n",
            "Shabana Azmi\n",
            "Manoj Bajpayee\n",
            "Anupam Kher\n",
            "Rajesh Khanna\n",
            "Dino Morea\n",
            "Irrfan Khan\n",
            "Amitabh Bachchan\n",
            "Himesh Reshammiya\n",
            "Tusshar Kapoor\n",
            "Nauheed Cyrusi\n",
            "Madhuri Dixit\n",
            "Dharmendra\n",
            "Emraan Hashmi\n",
            "Vinay Pathak\n",
            "Akshay Kumar\n",
            "Dino Morea\n",
            "Sunny Deol\n",
            "Mouli Ganguly\n",
            "Krishna Abhishek\n",
            "Irrfan Khan\n",
            "Kay Kay Menon\n",
            "Pankaj Kapur\n",
            "Jazzy Doe\n",
            "Mona Ambegaonkar\n",
            "Ajay Devgn\n",
            "Amitabh Bachchan\n",
            "Jimmy Sheirgill\n",
            "Fardeen Khan\n",
            "Shah Rukh Khan\n",
            "Sanjay Dutt\n",
            "John Abraham\n",
            "Pankaj Kapur\n",
            "Sunil Pal\n",
            "Muzamil Ibrahim\n",
            "Imaaduddin Shah\n",
            "Sharman Joshi\n",
            "Abhay Deol\n",
            "Arjun Rampal\n",
            "Akshaye Khanna\n",
            "Rishi Kapoor\n",
            "Arbaaz Khan\n",
            "Amitabh Bachchan\n",
            "Gautam Gupta\n",
            "Mohan Azaad\n",
            "Juanna Sanghvi\n",
            "Mithun Chakraborty\n",
            "Ranvir Shorey\n",
            "Govinda\n",
            "Abhishek Bachchan\n",
            "Shahid Kapoor\n",
            "Tusshar Kapoor\n",
            "Shahid Kapoor\n",
            "Shiney Ahuja\n",
            "Dharmendra\n",
            "Fardeen Khan\n",
            "Tusshar Kapoor\n",
            "Rekha\n",
            "Jimmy Sheirgill\n",
            "Rani Mukerji\n",
            "Dharmendra\n",
            "Shabana Azmi\n",
            "Abhay Deol\n",
            "Salman Khan\n",
            "Menekka Arora\n",
            "Nana Patekar\n",
            "Bobby Deol\n",
            "Linda Arsenio\n",
            "Kal Penn\n",
            "Akshay Kumar\n",
            "Jason Lewis\n",
            "Sanjay Dutt\n",
            "Amitabh Bachchan\n",
            "John Abraham\n",
            "Shah Rukh Khan\n",
            "Salman Khan\n",
            "Rahul Khanna\n",
            "Dwij Yadav\n",
            "Aftab Shivdasani\n",
            "Vinod Khanna\n",
            "Bobby Deol\n",
            "Sherlyn Chopra\n",
            "Salman Khan\n",
            "Rani Mukerji\n",
            "Mahima Chaudhry\n",
            "Mandar Jadhav\n",
            "Aftab Shivdasani\n",
            "Amitabh Bachchan\n",
            "Jimmy Sheirgill\n",
            "Manoj Bajpayee\n",
            "Darsheel Safary\n",
            "Saif Ali Khan\n",
            "Urmila Matondkar\n",
            "Kunal Khemu\n",
            "Emraan Hashmi\n",
            "Tushar Jalota\n",
            "Jaya Bachchan\n",
            "Akshay Kumar\n",
            "Akshaye Khanna\n",
            "Jeetendra\n",
            "Akshaye Khanna\n",
            "Abhay Deol\n",
            "Emraan Hashmi\n",
            "Akshay Kapoor\n",
            "Sanjay Dutt\n",
            "Bobby Darling\n",
            "Aftab Shivdasani\n",
            "Rekha\n",
            "Amitabh Bachchan\n",
            "Rati Agnihotri\n",
            "Rahul Dev\n",
            "Naseeruddin Shah\n",
            "Urmila Matondkar\n",
            "Juhi Chawla\n",
            "Akshay Kumar\n",
            "Sushmita Sen\n",
            "Jackie Shroff\n",
            "Somesh Agarwal\n",
            "Sohail Khan\n",
            "Kareena Kapoor\n",
            "Bipasha Basu\n",
            "Amitabh Bachchan\n",
            "Rajit Kapoor\n",
            "Emraan Hashmi\n",
            "Ishrat Ali\n",
            "Raj Tara\n",
            "Hrithik Roshan\n",
            "Ayesha Takia\n",
            "Shah Rukh Khan\n",
            "Amitabh Bachchan\n",
            "Aamir Khan\n",
            "Kangana Ranaut\n",
            "Ajay Devgn\n",
            "Ram Kapoor\n",
            "Sunil Shetty\n",
            "Ajay Devgn\n",
            "Akshay Kumar\n",
            "Arjun Rampal\n",
            "Arjun Rampal\n",
            "Aftab Shivdasani\n",
            "Salman Khan\n",
            "Emraan Hashmi\n",
            "Onjolee Nair\n",
            "Amarjeet\n",
            "Anupam Kher\n",
            "Amitabh Bachchan\n",
            "Rishi Kapoor\n",
            "Sanjay Dutt\n",
            "John Abraham\n",
            "Nassar Abdulla\n",
            "Rekha\n",
            "Paresh Rawal\n",
            "Ajay Devgn\n",
            "Rahul Bose\n",
            "Sunny Deol\n",
            "Akshay Kumar\n",
            "Fardeen Khan\n",
            "Akshay Kumar\n",
            "Jeetendra\n",
            "Sarika\n",
            "Aamir Khan\n",
            "Salman Khan\n",
            "Govinda\n",
            "Akshaye Khanna\n",
            "Salman Khan\n",
            "Mohit Ahlawat\n",
            "Mahima Chaudhry\n",
            "Ajay Devgn\n",
            "Mohammad Amir Naji\n",
            "Sanjay Dutt\n",
            "Irrfan Khan\n",
            "Aishwarya Rai Bachchan\n",
            "Nana Patekar\n",
            "Sunny Deol\n",
            "Shahid Kapoor\n",
            "Priyanshu Chatterjee\n",
            "Gurdas Maan\n",
            "Kangana Ranaut\n",
            "Paresh Rawal\n",
            "Jimmy Sheirgill\n",
            "Sushmita Sen\n",
            "Rakesh Bedi\n",
            "Emraan Hashmi\n",
            "Manisha Koirala\n",
            "Ajay Devgn\n",
            "Rekha\n",
            "Juhi Chawla\n",
            "Bobby Deol\n",
            "Anil Kapoor\n",
            "Amitabh Bachchan\n",
            "Sanjay Dutt\n",
            "Abhishek Bachchan\n",
            "Shawar Ali\n",
            "Ali Asgar\n",
            "Tabu\n",
            "Ajay Devgn\n",
            "Abhishek Bachchan\n",
            "Aryan Vaid\n",
            "Jatin Grewal\n",
            "Samir Aftab\n",
            "Anil Kapoor\n",
            "Randeep Hooda\n",
            "Akshay Kumar\n",
            "Saayli Buva\n",
            "Bipasha Basu\n",
            "Amitabh Bachchan\n",
            "Akshay Kumar\n",
            "Mithun Chakraborty\n",
            "Sanjay Dutt\n",
            "Arjun Rampal\n",
            "Shilpa Shetty Kundra\n",
            "Amitabh Bachchan\n",
            "Siddharth Koirala\n",
            "Fardeen Khan\n",
            "Ayesha Jhulka\n",
            "Aseel Adel\n",
            "Vivek Oberoi\n",
            "Akshay Kumar\n",
            "Shreyas Talpade\n",
            "Chiranjeevi\n",
            "Kay Kay Menon\n",
            "Akshay Kumar\n",
            "Sunny Deol\n",
            "John Abraham\n",
            "Ajay Devgn\n",
            "Kunal Khemu\n",
            "Lucky Ali\n",
            "Mukesh Khanna\n",
            "Mohit Ahlawat\n",
            "Vivek Oberoi\n",
            "Aftab Shivdasani\n",
            "Shilpa Shetty Kundra\n",
            "Kamal Adib\n",
            "Arshad Warsi\n",
            "Tusshar Kapoor\n",
            "Salman Khan\n",
            "Ajay Devgn\n",
            "Salman Khan\n",
            "Rajpal Yadav\n",
            "Anupam Kher\n",
            "Salman Khan\n",
            "Aamir Khan\n",
            "Dia Mirza\n",
            "Dev Anand\n",
            "Sanjay Suri\n",
            "Anil Kapoor\n",
            "Urmila Matondkar\n",
            "Uday Chopra\n",
            "Anil Kapoor\n",
            "Sunil Shetty\n",
            "Konkona Sen Sharma\n",
            "Shabana Azmi\n",
            "Saif Ali Khan\n",
            "Vinod Khanna\n",
            "Shah Rukh Khan\n",
            "Irrfan Khan\n",
            "Rishi Kapoor\n",
            "Saif Ali Khan\n",
            "Kashmira Shah\n",
            "Amitabh Bachchan\n",
            "Arshad Warsi\n",
            "Sanjay Dutt\n",
            "Ashutosh Rana\n",
            "Neha Dhupia\n",
            "Madhavan\n",
            "Tabu\n",
            "Abhay Deol\n",
            "Zulfi Sayed\n",
            "Ajay Devgn\n",
            "Nassar Abdulla\n",
            "Arjun Rampal\n",
            "Shahid Kapoor\n",
            "Aarti Chhabria\n",
            "Fardeen Khan\n",
            "Amitabh Bachchan\n",
            "Amitabh Bachchan\n",
            "Vikram Aditya\n",
            "Arjun Rampal\n",
            "Emraan Hashmi\n",
            "Shah Rukh Khan\n",
            "Shah Rukh Khan\n",
            "Ajay Devgn\n",
            "Salman Khan\n",
            "Abhishek Bachchan\n",
            "Amitabh Bachchan\n",
            "Saif Ali Khan\n",
            "Akshaye Khanna\n",
            "Mallika Sherawat\n",
            "Ajay Devgn\n",
            "Akshay Kumar\n",
            "Amitabh Bachchan\n",
            "Amitabh Bachchan\n",
            "Shatrughan Sinha\n",
            "Bobby Deol\n",
            "Kareena Kapoor\n",
            "Jimmy Sheirgill\n",
            "Arjun Rampal\n",
            "Jimmy Sheirgill\n",
            "Amitabh Bachchan\n",
            "Amitabh Bachchan\n",
            "Shahid Kapoor\n",
            "Salman Khan\n",
            "Jackie Shroff\n",
            "Naveen Bawa\n",
            "Vikaas Kalantari\n",
            "Tusshar Kapoor\n",
            "Kareena Kapoor\n",
            "Salman Khan\n",
            "Sunil Shetty\n",
            "Saif Ali Khan\n",
            "Isha Koppikar\n",
            "Akshay Kumar\n",
            "Aniket Vishwasrao\n",
            "Shawar Ali\n",
            "Tisca Chopra\n",
            "Neha Dhupia\n",
            "Raqesh Bapat\n",
            "Manoj Bajpayee\n",
            "Mallika Sherawat\n",
            "Dino Morea\n",
            "Sohail Khan\n",
            "Kiron Kher\n",
            "Bobby Deol\n",
            "Sunny Deol\n",
            "Sohail Khan\n",
            "Amitabh Bachchan\n",
            "Bipasha Basu\n",
            "Hrithik Roshan\n",
            "Dino Morea\n",
            "Irrfan Khan\n",
            "Aftab Shivdasani\n",
            "Tabu\n",
            "Anil Kapoor\n",
            "Prithviraj Kapoor\n",
            "Aftab Shivdasani\n",
            "Akshay Kumar\n",
            "Antara Mali\n",
            "Vinay Anand\n",
            "John Abraham\n",
            "Salman Khan\n",
            "Sanjay Dutt\n",
            "Akshay Kumar\n",
            "Manisha Koirala\n",
            "Akshay Kapoor\n",
            "Sanjay Dutt\n",
            "Ajay Devgn\n",
            "Sanjay Dutt\n",
            "Sanjay Suri\n",
            "Abhishek Bachchan\n",
            "Sunny Deol\n",
            "Aftab Shivdasani\n",
            "Shah Rukh Khan\n",
            "Vatsal Sheth\n",
            "Madhavan\n",
            "Tusshar Kapoor\n",
            "Emraan Hashmi\n",
            "Vicky Ahuja\n",
            "Shah Rukh Khan\n",
            "Tarun Arora\n",
            "Diwakar Pathak\n",
            "Arya Babbar\n",
            "Rekha\n",
            "Shah Rukh Khan\n",
            "Anupam Kher\n",
            "Shah Rukh Khan\n",
            "Sunny Deol\n",
            "Amitabh Bachchan\n",
            "Hrithik Roshan\n",
            "Sanjay Dutt\n",
            "Sanjay Dutt\n",
            "Sanjay Dutt\n",
            "Ajay Devgn\n",
            "Atul Kulkarni\n",
            "Naseeruddin Shah\n",
            "Arun Bakshi\n",
            "Priyanshu Chatterjee\n",
            "Ajay Devgn\n",
            "Amitabh Bachchan\n",
            "Sudesh Berry\n",
            "Akshay Kumar\n",
            "Akshay Kumar\n",
            "Amitabh Bachchan\n",
            "Ajay Devgn\n",
            "Anil Kapoor\n",
            "Jackie Shroff\n",
            "Sadashiv Amrapurkar\n",
            "Sooraj Balaji\n",
            "Arjun Rampal\n",
            "Sameera Reddy\n",
            "Om Puri\n",
            "Amar Upadhyaya\n",
            "Zayed Khan\n",
            "Nawazuddin Siddiqui\n",
            "Vivek Oberoi\n",
            "Kapil Jhaveri\n",
            "Nandita Das\n",
            "Aftab Shivdasani\n",
            "Manisha Koirala\n",
            "Rahul Bose\n",
            "Ajay Devgn\n",
            "Tabu\n",
            "Jimmy Sheirgill\n",
            "Sanjay Dutt\n",
            "Akshaye Khanna\n",
            "Vikram Dasu\n",
            "Reef Karim\n",
            "Jaz Pandher\n",
            "Rushali Arora\n",
            "Ashmit Patel\n",
            "Sunny Deol\n",
            "Shahid Kapoor\n",
            "Babbu Mann\n",
            "Javed Jaffrey\n",
            "Bipasha Basu\n",
            "Sanjay Suri\n",
            "Om Puri\n",
            "Juhi Babbar\n",
            "Sunny Deol\n",
            "Feroz Khan\n",
            "Amit Hingorani\n",
            "Fardeen Khan\n",
            "Himanshu Malik\n",
            "Tusshar Kapoor\n",
            "Aishwarya Rai Bachchan\n",
            "Antara Mali\n",
            "Victor Banerjee\n",
            "Manisha Koirala\n",
            "Attin Bhalla\n",
            "Riteish Deshmukh\n",
            "Rahul Bose\n",
            "Tulip Joshi\n",
            "Ajay Devgn\n",
            "Urmila Matondkar\n",
            "Abhishek Bachchan\n",
            "John Abraham\n",
            "Sushmita Sen\n",
            "Vikas Kalantri\n",
            "Raveena Tandon\n",
            "Tanishaa Mukerji\n",
            "Raveena Tandon\n",
            "Vijay Raaz\n",
            "Raveena Tandon\n",
            "Tanuja\n",
            "Ankit\n",
            "Sadashiv Amrapurkar\n",
            "Salman Khan\n",
            "Riteish Deshmukh\n",
            "Rakhee Gulzar\n",
            "Shabana Azmi\n",
            "Edwin Fernandes\n",
            "Tusshar Kapoor\n",
            "Sharman Joshi\n",
            "Dino Morea\n",
            "Ajay Devgn\n",
            "Arshad Warsi\n",
            "Shah Rukh Khan\n",
            "Amitabh Bachchan\n",
            "Shah Rukh Khan\n",
            "Amitabh Bachchan\n",
            "Vivek Oberoi\n",
            "Ajay Devgn\n",
            "Akshay Kumar\n"
          ]
        }
      ]
    },
    {
      "cell_type": "code",
      "source": [
        "# Arithmetic Operators(Broadcasting)\n",
        "100 + marks_series"
      ],
      "metadata": {
        "colab": {
          "base_uri": "https://localhost:8080/",
          "height": 209
        },
        "id": "XPYoq68WuBZ_",
        "outputId": "046e42b4-b716-44e7-9da4-946452e32449"
      },
      "execution_count": 48,
      "outputs": [
        {
          "output_type": "execute_result",
          "data": {
            "text/plain": [
              "maths      167\n",
              "english    190\n",
              "science    189\n",
              "hindi      200\n",
              "Name: Abhisek Gupta marks, dtype: int64"
            ],
            "text/html": [
              "<div>\n",
              "<style scoped>\n",
              "    .dataframe tbody tr th:only-of-type {\n",
              "        vertical-align: middle;\n",
              "    }\n",
              "\n",
              "    .dataframe tbody tr th {\n",
              "        vertical-align: top;\n",
              "    }\n",
              "\n",
              "    .dataframe thead th {\n",
              "        text-align: right;\n",
              "    }\n",
              "</style>\n",
              "<table border=\"1\" class=\"dataframe\">\n",
              "  <thead>\n",
              "    <tr style=\"text-align: right;\">\n",
              "      <th></th>\n",
              "      <th>Abhisek Gupta marks</th>\n",
              "    </tr>\n",
              "  </thead>\n",
              "  <tbody>\n",
              "    <tr>\n",
              "      <th>maths</th>\n",
              "      <td>167</td>\n",
              "    </tr>\n",
              "    <tr>\n",
              "      <th>english</th>\n",
              "      <td>190</td>\n",
              "    </tr>\n",
              "    <tr>\n",
              "      <th>science</th>\n",
              "      <td>189</td>\n",
              "    </tr>\n",
              "    <tr>\n",
              "      <th>hindi</th>\n",
              "      <td>200</td>\n",
              "    </tr>\n",
              "  </tbody>\n",
              "</table>\n",
              "</div><br><label><b>dtype:</b> int64</label>"
            ]
          },
          "metadata": {},
          "execution_count": 48
        }
      ]
    },
    {
      "cell_type": "code",
      "source": [
        "# Relational Operators\n",
        "\n",
        "vk >= 50"
      ],
      "metadata": {
        "colab": {
          "base_uri": "https://localhost:8080/"
        },
        "id": "L3uIP0BJuEKf",
        "outputId": "5071a9e3-ef90-4e09-d880-785518914f78"
      },
      "execution_count": null,
      "outputs": [
        {
          "output_type": "execute_result",
          "data": {
            "text/plain": [
              "match_no\n",
              "1      False\n",
              "2      False\n",
              "3      False\n",
              "4      False\n",
              "5      False\n",
              "       ...  \n",
              "211    False\n",
              "212    False\n",
              "213     True\n",
              "214    False\n",
              "215    False\n",
              "Name: runs, Length: 215, dtype: bool"
            ]
          },
          "metadata": {},
          "execution_count": 151
        }
      ]
    },
    {
      "cell_type": "markdown",
      "source": [
        "### Boolean Indexing on Series"
      ],
      "metadata": {
        "id": "nrtnwvD0O515"
      }
    },
    {
      "cell_type": "code",
      "source": [
        "# Find no of 50's and 100's scored by kohli\n",
        "vk[vk >= 50].size"
      ],
      "metadata": {
        "colab": {
          "base_uri": "https://localhost:8080/"
        },
        "id": "XcyU25jLO9ft",
        "outputId": "0155ebef-df26-41dd-88e5-735106b46ec9"
      },
      "execution_count": 53,
      "outputs": [
        {
          "output_type": "execute_result",
          "data": {
            "text/plain": [
              "50"
            ]
          },
          "metadata": {},
          "execution_count": 53
        }
      ]
    },
    {
      "cell_type": "code",
      "source": [
        "# find number of ducks\n",
        "vk[vk == 0].size"
      ],
      "metadata": {
        "colab": {
          "base_uri": "https://localhost:8080/"
        },
        "id": "37QxNConO904",
        "outputId": "82600c80-6242-41cd-b904-1831912b41da"
      },
      "execution_count": null,
      "outputs": [
        {
          "output_type": "execute_result",
          "data": {
            "text/plain": [
              "9"
            ]
          },
          "metadata": {},
          "execution_count": 157
        }
      ]
    },
    {
      "cell_type": "code",
      "source": [
        "# Count number of day when I had more than 200 subs a day\n",
        "subs[subs > 200].size"
      ],
      "metadata": {
        "colab": {
          "base_uri": "https://localhost:8080/"
        },
        "id": "p-Hft0kSvBn2",
        "outputId": "40c5162c-bf00-4be3-b07f-9e6a1ab1d3c2"
      },
      "execution_count": null,
      "outputs": [
        {
          "output_type": "execute_result",
          "data": {
            "text/plain": [
              "59"
            ]
          },
          "metadata": {},
          "execution_count": 161
        }
      ]
    },
    {
      "cell_type": "code",
      "source": [
        "# find actors who have done more than 20 movies\n",
        "num_movies = movies.value_counts()\n",
        "num_movies[num_movies > 20]"
      ],
      "metadata": {
        "colab": {
          "base_uri": "https://localhost:8080/",
          "height": 335
        },
        "id": "fZM3OCApvsZe",
        "outputId": "5451cc35-c2ef-4ea4-8a5b-6f9a7d17e086"
      },
      "execution_count": 55,
      "outputs": [
        {
          "output_type": "execute_result",
          "data": {
            "text/plain": [
              "lead\n",
              "Akshay Kumar        48\n",
              "Amitabh Bachchan    45\n",
              "Ajay Devgn          38\n",
              "Salman Khan         31\n",
              "Sanjay Dutt         26\n",
              "Shah Rukh Khan      22\n",
              "Emraan Hashmi       21\n",
              "Name: count, dtype: int64"
            ],
            "text/html": [
              "<div>\n",
              "<style scoped>\n",
              "    .dataframe tbody tr th:only-of-type {\n",
              "        vertical-align: middle;\n",
              "    }\n",
              "\n",
              "    .dataframe tbody tr th {\n",
              "        vertical-align: top;\n",
              "    }\n",
              "\n",
              "    .dataframe thead th {\n",
              "        text-align: right;\n",
              "    }\n",
              "</style>\n",
              "<table border=\"1\" class=\"dataframe\">\n",
              "  <thead>\n",
              "    <tr style=\"text-align: right;\">\n",
              "      <th></th>\n",
              "      <th>count</th>\n",
              "    </tr>\n",
              "    <tr>\n",
              "      <th>lead</th>\n",
              "      <th></th>\n",
              "    </tr>\n",
              "  </thead>\n",
              "  <tbody>\n",
              "    <tr>\n",
              "      <th>Akshay Kumar</th>\n",
              "      <td>48</td>\n",
              "    </tr>\n",
              "    <tr>\n",
              "      <th>Amitabh Bachchan</th>\n",
              "      <td>45</td>\n",
              "    </tr>\n",
              "    <tr>\n",
              "      <th>Ajay Devgn</th>\n",
              "      <td>38</td>\n",
              "    </tr>\n",
              "    <tr>\n",
              "      <th>Salman Khan</th>\n",
              "      <td>31</td>\n",
              "    </tr>\n",
              "    <tr>\n",
              "      <th>Sanjay Dutt</th>\n",
              "      <td>26</td>\n",
              "    </tr>\n",
              "    <tr>\n",
              "      <th>Shah Rukh Khan</th>\n",
              "      <td>22</td>\n",
              "    </tr>\n",
              "    <tr>\n",
              "      <th>Emraan Hashmi</th>\n",
              "      <td>21</td>\n",
              "    </tr>\n",
              "  </tbody>\n",
              "</table>\n",
              "</div><br><label><b>dtype:</b> int64</label>"
            ]
          },
          "metadata": {},
          "execution_count": 55
        }
      ]
    },
    {
      "cell_type": "markdown",
      "source": [
        "### Plotting Graphs on Series"
      ],
      "metadata": {
        "id": "PQjv9hm-42Jr"
      }
    },
    {
      "cell_type": "code",
      "source": [
        "subs.plot()"
      ],
      "metadata": {
        "colab": {
          "base_uri": "https://localhost:8080/",
          "height": 283
        },
        "id": "WVEQvPTw40KE",
        "outputId": "8e7a69f1-792a-4a0e-ad83-4875ecde1108"
      },
      "execution_count": null,
      "outputs": [
        {
          "output_type": "execute_result",
          "data": {
            "text/plain": [
              "<matplotlib.axes._subplots.AxesSubplot at 0x7f54e0531a60>"
            ]
          },
          "metadata": {},
          "execution_count": 167
        },
        {
          "output_type": "display_data",
          "data": {
            "text/plain": [
              "<Figure size 432x288 with 1 Axes>"
            ],
            "image/png": "[encoded data removed]"
          },
          "metadata": {
            "needs_background": "light"
          }
        }
      ]
    },
    {
      "cell_type": "code",
      "source": [
        "movies.value_counts().head(20).plot(kind='bar')"
      ],
      "metadata": {
        "colab": {
          "base_uri": "https://localhost:8080/",
          "height": 604
        },
        "id": "lGhMdpmkTm-z",
        "outputId": "e0a7ec4d-8151-43bc-cf49-a64ebc9b369a"
      },
      "execution_count": 60,
      "outputs": [
        {
          "output_type": "execute_result",
          "data": {
            "text/plain": [
              "<Axes: xlabel='lead'>"
            ]
          },
          "metadata": {},
          "execution_count": 60
        },
        {
          "output_type": "display_data",
          "data": {
            "text/plain": [
              "<Figure size 640x480 with 1 Axes>"
            ],
            "image/png": "[encoded data removed]"
          },
          "metadata": {}
        }
      ]
    },
    {
      "cell_type": "markdown",
      "source": [
        "### Some Important Series Methods"
      ],
      "metadata": {
        "id": "3fl2mDQgPsz_"
      }
    },
    {
      "cell_type": "code",
      "source": [
        "# astype\n",
        "# between\n",
        "# clip\n",
        "# drop_duplicates\n",
        "# isnull\n",
        "# dropna\n",
        "# fillna\n",
        "# isin\n",
        "# apply\n",
        "# copy"
      ],
      "metadata": {
        "id": "HRw5A2lhKn97"
      },
      "execution_count": null,
      "outputs": []
    },
    {
      "cell_type": "code",
      "source": [
        "import numpy as np\n",
        "import pandas as pd"
      ],
      "metadata": {
        "id": "AWCxMcdt6tN2"
      },
      "execution_count": null,
      "outputs": []
    },
    {
      "cell_type": "code",
      "source": [
        "subs = pd.read_csv('/content/subs.csv',squeeze=True)\n",
        "subs"
      ],
      "metadata": {
        "id": "7ziyhORZ0Oy1",
        "colab": {
          "base_uri": "https://localhost:8080/"
        },
        "outputId": "a480585f-3edd-4497-8f48-1f6a718cdbd3"
      },
      "execution_count": null,
      "outputs": [
        {
          "output_type": "execute_result",
          "data": {
            "text/plain": [
              "0       48\n",
              "1       57\n",
              "2       40\n",
              "3       43\n",
              "4       44\n",
              "      ... \n",
              "360    231\n",
              "361    226\n",
              "362    155\n",
              "363    144\n",
              "364    172\n",
              "Name: Subscribers gained, Length: 365, dtype: int64"
            ]
          },
          "metadata": {},
          "execution_count": 8
        }
      ]
    },
    {
      "cell_type": "code",
      "source": [
        "vk = pd.read_csv('/content/kohli_ipl.csv',index_col='match_no',squeeze=True)\n",
        "vk"
      ],
      "metadata": {
        "colab": {
          "base_uri": "https://localhost:8080/"
        },
        "id": "sXzsoZBIzXgQ",
        "outputId": "fdfa4a42-cab0-4f2a-84d8-7b0ffb3a3a0b"
      },
      "execution_count": null,
      "outputs": [
        {
          "output_type": "execute_result",
          "data": {
            "text/plain": [
              "match_no\n",
              "1       1\n",
              "2      23\n",
              "3      13\n",
              "4      12\n",
              "5       1\n",
              "       ..\n",
              "211     0\n",
              "212    20\n",
              "213    73\n",
              "214    25\n",
              "215     7\n",
              "Name: runs, Length: 215, dtype: int64"
            ]
          },
          "metadata": {},
          "execution_count": 9
        }
      ]
    },
    {
      "cell_type": "code",
      "source": [
        "movies = pd.read_csv('/content/bollywood.csv',index_col='movie',squeeze=True)\n",
        "movies"
      ],
      "metadata": {
        "colab": {
          "base_uri": "https://localhost:8080/"
        },
        "id": "YIG8ViibzbaA",
        "outputId": "e3db35aa-e98a-425a-ca61-df44efa191c8"
      },
      "execution_count": null,
      "outputs": [
        {
          "output_type": "execute_result",
          "data": {
            "text/plain": [
              "movie\n",
              "Uri: The Surgical Strike                   Vicky Kaushal\n",
              "Battalion 609                                Vicky Ahuja\n",
              "The Accidental Prime Minister (film)         Anupam Kher\n",
              "Why Cheat India                            Emraan Hashmi\n",
              "Evening Shadows                         Mona Ambegaonkar\n",
              "                                              ...       \n",
              "Hum Tumhare Hain Sanam                    Shah Rukh Khan\n",
              "Aankhen (2002 film)                     Amitabh Bachchan\n",
              "Saathiya (film)                             Vivek Oberoi\n",
              "Company (film)                                Ajay Devgn\n",
              "Awara Paagal Deewana                        Akshay Kumar\n",
              "Name: lead, Length: 1500, dtype: object"
            ]
          },
          "metadata": {},
          "execution_count": 10
        }
      ]
    },
    {
      "cell_type": "code",
      "source": [
        "# astype\n",
        "import sys\n",
        "sys.getsizeof(vk)"
      ],
      "metadata": {
        "colab": {
          "base_uri": "https://localhost:8080/"
        },
        "id": "W_Savtg2zf7z",
        "outputId": "67e51723-1a0f-41ae-c1b7-1a4dd3c2e2a2"
      },
      "execution_count": null,
      "outputs": [
        {
          "output_type": "execute_result",
          "data": {
            "text/plain": [
              "3456"
            ]
          },
          "metadata": {},
          "execution_count": 51
        }
      ]
    },
    {
      "cell_type": "code",
      "source": [
        "sys.getsizeof(vk.astype('int16'))"
      ],
      "metadata": {
        "colab": {
          "base_uri": "https://localhost:8080/"
        },
        "id": "LColuUHt62ho",
        "outputId": "7ed7fdbe-ef05-4367-af75-b94ba28abcf5"
      },
      "execution_count": null,
      "outputs": [
        {
          "output_type": "execute_result",
          "data": {
            "text/plain": [
              "2166"
            ]
          },
          "metadata": {},
          "execution_count": 53
        }
      ]
    },
    {
      "cell_type": "code",
      "source": [
        "# between\n",
        "vk[vk.between(51,99)].size"
      ],
      "metadata": {
        "colab": {
          "base_uri": "https://localhost:8080/"
        },
        "id": "9TGRR7Mi63Rl",
        "outputId": "9b255cc8-bc45-4889-cc41-0a466f023e8e"
      },
      "execution_count": null,
      "outputs": [
        {
          "output_type": "execute_result",
          "data": {
            "text/plain": [
              "43"
            ]
          },
          "metadata": {},
          "execution_count": 56
        }
      ]
    },
    {
      "cell_type": "code",
      "source": [],
      "metadata": {
        "id": "uBCn5ryN68y8"
      },
      "execution_count": null,
      "outputs": []
    },
    {
      "cell_type": "code",
      "source": [
        "# clip\n",
        "subs"
      ],
      "metadata": {
        "colab": {
          "base_uri": "https://localhost:8080/"
        },
        "id": "n7FUL-St69Dk",
        "outputId": "2f39b3ef-1505-48ff-9515-5118cbb6566e"
      },
      "execution_count": null,
      "outputs": [
        {
          "output_type": "execute_result",
          "data": {
            "text/plain": [
              "0       48\n",
              "1       57\n",
              "2       40\n",
              "3       43\n",
              "4       44\n",
              "      ... \n",
              "360    231\n",
              "361    226\n",
              "362    155\n",
              "363    144\n",
              "364    172\n",
              "Name: Subscribers gained, Length: 365, dtype: int64"
            ]
          },
          "metadata": {},
          "execution_count": 57
        }
      ]
    },
    {
      "cell_type": "code",
      "source": [
        "subs.clip(100,200)"
      ],
      "metadata": {
        "colab": {
          "base_uri": "https://localhost:8080/"
        },
        "id": "kUkcI7Q86-Ik",
        "outputId": "ded69a90-7ed3-4c1d-c6d1-8cf1f7a4c621"
      },
      "execution_count": null,
      "outputs": [
        {
          "output_type": "execute_result",
          "data": {
            "text/plain": [
              "0      100\n",
              "1      100\n",
              "2      100\n",
              "3      100\n",
              "4      100\n",
              "      ... \n",
              "360    200\n",
              "361    200\n",
              "362    155\n",
              "363    144\n",
              "364    172\n",
              "Name: Subscribers gained, Length: 365, dtype: int64"
            ]
          },
          "metadata": {},
          "execution_count": 58
        }
      ]
    },
    {
      "cell_type": "code",
      "source": [
        "# drop_duplicates\n",
        "temp = pd.Series([1,1,2,2,3,3,4,4])\n",
        "temp"
      ],
      "metadata": {
        "colab": {
          "base_uri": "https://localhost:8080/"
        },
        "id": "1pxfXsU2z13B",
        "outputId": "18a6951c-06b6-48ea-d3c2-22a27f737ed5"
      },
      "execution_count": null,
      "outputs": [
        {
          "output_type": "execute_result",
          "data": {
            "text/plain": [
              "0    1\n",
              "1    1\n",
              "2    2\n",
              "3    2\n",
              "4    3\n",
              "5    3\n",
              "6    4\n",
              "7    4\n",
              "dtype: int64"
            ]
          },
          "metadata": {},
          "execution_count": 60
        }
      ]
    },
    {
      "cell_type": "code",
      "source": [
        "temp.drop_duplicates(keep='last')"
      ],
      "metadata": {
        "colab": {
          "base_uri": "https://localhost:8080/"
        },
        "id": "CuhblaOA6eLa",
        "outputId": "132438ce-dfa3-43e7-9574-27e573ebaa3b"
      },
      "execution_count": null,
      "outputs": [
        {
          "output_type": "execute_result",
          "data": {
            "text/plain": [
              "1    1\n",
              "3    2\n",
              "5    3\n",
              "7    4\n",
              "dtype: int64"
            ]
          },
          "metadata": {},
          "execution_count": 62
        }
      ]
    },
    {
      "cell_type": "code",
      "source": [
        "temp.duplicated().sum()"
      ],
      "metadata": {
        "colab": {
          "base_uri": "https://localhost:8080/"
        },
        "id": "JP2eHcJQ9wUT",
        "outputId": "7e4323f5-24f1-42ad-85f7-d8ce51999716"
      },
      "execution_count": null,
      "outputs": [
        {
          "output_type": "execute_result",
          "data": {
            "text/plain": [
              "4"
            ]
          },
          "metadata": {},
          "execution_count": 65
        }
      ]
    },
    {
      "cell_type": "code",
      "source": [
        "vk.duplicated().sum()"
      ],
      "metadata": {
        "colab": {
          "base_uri": "https://localhost:8080/"
        },
        "id": "CNOErsJI992F",
        "outputId": "f775f7de-3bfb-41f1-b602-bd3b49d3c5bf"
      },
      "execution_count": null,
      "outputs": [
        {
          "output_type": "execute_result",
          "data": {
            "text/plain": [
              "137"
            ]
          },
          "metadata": {},
          "execution_count": 66
        }
      ]
    },
    {
      "cell_type": "code",
      "source": [
        "movies.drop_duplicates()"
      ],
      "metadata": {
        "colab": {
          "base_uri": "https://localhost:8080/"
        },
        "id": "HJrGhllP9mUy",
        "outputId": "ad772a71-57fb-4d1a-bdc3-dc5ff28dfbca"
      },
      "execution_count": null,
      "outputs": [
        {
          "output_type": "execute_result",
          "data": {
            "text/plain": [
              "movie\n",
              "Uri: The Surgical Strike                   Vicky Kaushal\n",
              "Battalion 609                                Vicky Ahuja\n",
              "The Accidental Prime Minister (film)         Anupam Kher\n",
              "Why Cheat India                            Emraan Hashmi\n",
              "Evening Shadows                         Mona Ambegaonkar\n",
              "                                              ...       \n",
              "Sssshhh...                              Tanishaa Mukerji\n",
              "Rules: Pyaar Ka Superhit Formula                  Tanuja\n",
              "Right Here Right Now (film)                        Ankit\n",
              "Talaash: The Hunt Begins...                Rakhee Gulzar\n",
              "The Pink Mirror                          Edwin Fernandes\n",
              "Name: lead, Length: 566, dtype: object"
            ]
          },
          "metadata": {},
          "execution_count": 63
        }
      ]
    },
    {
      "cell_type": "code",
      "source": [
        "temp = pd.Series([1,2,3,np.nan,5,6,np.nan,8,np.nan,10])\n",
        "temp"
      ],
      "metadata": {
        "colab": {
          "base_uri": "https://localhost:8080/"
        },
        "id": "QrrlnPu46ene",
        "outputId": "9e396114-42da-49b6-b850-710f52e89c6c"
      },
      "execution_count": null,
      "outputs": [
        {
          "output_type": "execute_result",
          "data": {
            "text/plain": [
              "0     1.0\n",
              "1     2.0\n",
              "2     3.0\n",
              "3     NaN\n",
              "4     5.0\n",
              "5     6.0\n",
              "6     NaN\n",
              "7     8.0\n",
              "8     NaN\n",
              "9    10.0\n",
              "dtype: float64"
            ]
          },
          "metadata": {},
          "execution_count": 67
        }
      ]
    },
    {
      "cell_type": "code",
      "source": [
        "temp.size"
      ],
      "metadata": {
        "colab": {
          "base_uri": "https://localhost:8080/"
        },
        "id": "yH3URjKb-PTJ",
        "outputId": "90e1a0f4-53e4-44dd-ae5f-7e5cccb60f13"
      },
      "execution_count": null,
      "outputs": [
        {
          "output_type": "execute_result",
          "data": {
            "text/plain": [
              "10"
            ]
          },
          "metadata": {},
          "execution_count": 68
        }
      ]
    },
    {
      "cell_type": "code",
      "source": [
        "temp.count()"
      ],
      "metadata": {
        "colab": {
          "base_uri": "https://localhost:8080/"
        },
        "id": "alUtB-HD-WNQ",
        "outputId": "9cbc07c4-d8bf-4455-d9a0-150189d719cd"
      },
      "execution_count": null,
      "outputs": [
        {
          "output_type": "execute_result",
          "data": {
            "text/plain": [
              "7"
            ]
          },
          "metadata": {},
          "execution_count": 69
        }
      ]
    },
    {
      "cell_type": "code",
      "source": [
        "# isnull\n",
        "temp.isnull().sum()"
      ],
      "metadata": {
        "colab": {
          "base_uri": "https://localhost:8080/"
        },
        "id": "6FRiAkec6mib",
        "outputId": "db5c5c03-218b-43b0-bcdf-07df161e66de"
      },
      "execution_count": null,
      "outputs": [
        {
          "output_type": "execute_result",
          "data": {
            "text/plain": [
              "3"
            ]
          },
          "metadata": {},
          "execution_count": 72
        }
      ]
    },
    {
      "cell_type": "code",
      "source": [],
      "metadata": {
        "id": "_98OInJX7GhO"
      },
      "execution_count": null,
      "outputs": []
    },
    {
      "cell_type": "code",
      "source": [
        "# dropna\n",
        "temp.dropna()"
      ],
      "metadata": {
        "colab": {
          "base_uri": "https://localhost:8080/"
        },
        "id": "STkbZIDn7HBa",
        "outputId": "e128100c-4f4e-46b3-80b5-bb9390f2d53c"
      },
      "execution_count": null,
      "outputs": [
        {
          "output_type": "execute_result",
          "data": {
            "text/plain": [
              "0     1.0\n",
              "1     2.0\n",
              "2     3.0\n",
              "4     5.0\n",
              "5     6.0\n",
              "7     8.0\n",
              "9    10.0\n",
              "dtype: float64"
            ]
          },
          "metadata": {},
          "execution_count": 73
        }
      ]
    },
    {
      "cell_type": "code",
      "source": [],
      "metadata": {
        "id": "0vp6l6kO7INt"
      },
      "execution_count": null,
      "outputs": []
    },
    {
      "cell_type": "code",
      "source": [
        "# fillna\n",
        "temp.fillna(temp.mean())"
      ],
      "metadata": {
        "colab": {
          "base_uri": "https://localhost:8080/"
        },
        "id": "cXIb28DN7Ihc",
        "outputId": "946fad61-56ad-412a-8e53-76ee45835d64"
      },
      "execution_count": null,
      "outputs": [
        {
          "output_type": "execute_result",
          "data": {
            "text/plain": [
              "0     1.0\n",
              "1     2.0\n",
              "2     3.0\n",
              "3     5.0\n",
              "4     5.0\n",
              "5     6.0\n",
              "6     5.0\n",
              "7     8.0\n",
              "8     5.0\n",
              "9    10.0\n",
              "dtype: float64"
            ]
          },
          "metadata": {},
          "execution_count": 75
        }
      ]
    },
    {
      "cell_type": "code",
      "source": [],
      "metadata": {
        "id": "c0YUEwGY7J0g"
      },
      "execution_count": null,
      "outputs": []
    },
    {
      "cell_type": "code",
      "source": [
        "# isin\n",
        "vk[(vk == 49) | (vk == 99)]"
      ],
      "metadata": {
        "colab": {
          "base_uri": "https://localhost:8080/"
        },
        "id": "PHKT_uv-7MBm",
        "outputId": "25426a86-3608-4380-f970-03084bbbe02b"
      },
      "execution_count": null,
      "outputs": [
        {
          "output_type": "execute_result",
          "data": {
            "text/plain": [
              "match_no\n",
              "82    99\n",
              "86    49\n",
              "Name: runs, dtype: int64"
            ]
          },
          "metadata": {},
          "execution_count": 79
        }
      ]
    },
    {
      "cell_type": "code",
      "source": [
        "vk[vk.isin([49,99])]"
      ],
      "metadata": {
        "colab": {
          "base_uri": "https://localhost:8080/"
        },
        "id": "E1pFXMVc_evI",
        "outputId": "c037601a-f416-4ea1-e4cf-970e1f77f9fe"
      },
      "execution_count": null,
      "outputs": [
        {
          "output_type": "execute_result",
          "data": {
            "text/plain": [
              "match_no\n",
              "82    99\n",
              "86    49\n",
              "Name: runs, dtype: int64"
            ]
          },
          "metadata": {},
          "execution_count": 81
        }
      ]
    },
    {
      "cell_type": "code",
      "source": [],
      "metadata": {
        "id": "Z0G9VSBs7N-K"
      },
      "execution_count": null,
      "outputs": []
    },
    {
      "cell_type": "code",
      "source": [
        "# apply\n",
        "movies"
      ],
      "metadata": {
        "colab": {
          "base_uri": "https://localhost:8080/"
        },
        "id": "v7lsdckT7OOk",
        "outputId": "addf5280-e024-443b-988c-d1dd6f722dc2"
      },
      "execution_count": null,
      "outputs": [
        {
          "output_type": "execute_result",
          "data": {
            "text/plain": [
              "movie\n",
              "Uri: The Surgical Strike                   Vicky Kaushal\n",
              "Battalion 609                                Vicky Ahuja\n",
              "The Accidental Prime Minister (film)         Anupam Kher\n",
              "Why Cheat India                            Emraan Hashmi\n",
              "Evening Shadows                         Mona Ambegaonkar\n",
              "                                              ...       \n",
              "Hum Tumhare Hain Sanam                    Shah Rukh Khan\n",
              "Aankhen (2002 film)                     Amitabh Bachchan\n",
              "Saathiya (film)                             Vivek Oberoi\n",
              "Company (film)                                Ajay Devgn\n",
              "Awara Paagal Deewana                        Akshay Kumar\n",
              "Name: lead, Length: 1500, dtype: object"
            ]
          },
          "metadata": {},
          "execution_count": 82
        }
      ]
    },
    {
      "cell_type": "code",
      "source": [
        "movies.apply(lambda x:x.split()[0].upper())"
      ],
      "metadata": {
        "colab": {
          "base_uri": "https://localhost:8080/"
        },
        "id": "ftFnrqOv7PDx",
        "outputId": "742036c3-de60-4c81-bd69-98d2e097a7a4"
      },
      "execution_count": null,
      "outputs": [
        {
          "output_type": "execute_result",
          "data": {
            "text/plain": [
              "movie\n",
              "Uri: The Surgical Strike                  VICKY\n",
              "Battalion 609                             VICKY\n",
              "The Accidental Prime Minister (film)     ANUPAM\n",
              "Why Cheat India                          EMRAAN\n",
              "Evening Shadows                            MONA\n",
              "                                         ...   \n",
              "Hum Tumhare Hain Sanam                     SHAH\n",
              "Aankhen (2002 film)                     AMITABH\n",
              "Saathiya (film)                           VIVEK\n",
              "Company (film)                             AJAY\n",
              "Awara Paagal Deewana                     AKSHAY\n",
              "Name: lead, Length: 1500, dtype: object"
            ]
          },
          "metadata": {},
          "execution_count": 85
        }
      ]
    },
    {
      "cell_type": "code",
      "source": [
        "subs"
      ],
      "metadata": {
        "colab": {
          "base_uri": "https://localhost:8080/"
        },
        "id": "a3_r2it57Pjw",
        "outputId": "775f2ab2-b5a6-46eb-f48a-22f7b044a604"
      },
      "execution_count": null,
      "outputs": [
        {
          "output_type": "execute_result",
          "data": {
            "text/plain": [
              "0       48\n",
              "1       57\n",
              "2       40\n",
              "3       43\n",
              "4       44\n",
              "      ... \n",
              "360    231\n",
              "361    226\n",
              "362    155\n",
              "363    144\n",
              "364    172\n",
              "Name: Subscribers gained, Length: 365, dtype: int64"
            ]
          },
          "metadata": {},
          "execution_count": 86
        }
      ]
    },
    {
      "cell_type": "code",
      "source": [
        "subs.apply(lambda x:'good day' if x > subs.mean() else 'bad day')"
      ],
      "metadata": {
        "colab": {
          "base_uri": "https://localhost:8080/"
        },
        "id": "evUNfB0bAQBk",
        "outputId": "eb6d4c04-381c-4715-97ec-03030458af44"
      },
      "execution_count": null,
      "outputs": [
        {
          "output_type": "execute_result",
          "data": {
            "text/plain": [
              "0       bad day\n",
              "1       bad day\n",
              "2       bad day\n",
              "3       bad day\n",
              "4       bad day\n",
              "         ...   \n",
              "360    good day\n",
              "361    good day\n",
              "362    good day\n",
              "363    good day\n",
              "364    good day\n",
              "Name: Subscribers gained, Length: 365, dtype: object"
            ]
          },
          "metadata": {},
          "execution_count": 88
        }
      ]
    },
    {
      "cell_type": "code",
      "source": [
        "subs.mean()"
      ],
      "metadata": {
        "colab": {
          "base_uri": "https://localhost:8080/"
        },
        "id": "vvE_nzCFAKRv",
        "outputId": "7a36986e-5b4d-4d69-b6e0-756ff4c296c5"
      },
      "execution_count": null,
      "outputs": [
        {
          "output_type": "execute_result",
          "data": {
            "text/plain": [
              "135.64383561643837"
            ]
          },
          "metadata": {},
          "execution_count": 87
        }
      ]
    },
    {
      "cell_type": "code",
      "source": [
        "# copy"
      ],
      "metadata": {
        "id": "91NkdlOi7QAi"
      },
      "execution_count": null,
      "outputs": []
    },
    {
      "cell_type": "code",
      "source": [
        "vk"
      ],
      "metadata": {
        "colab": {
          "base_uri": "https://localhost:8080/"
        },
        "id": "ZAsauZPA7RMY",
        "outputId": "74f05c82-86d4-4049-b4e1-69824bf7ed0e"
      },
      "execution_count": null,
      "outputs": [
        {
          "output_type": "execute_result",
          "data": {
            "text/plain": [
              "match_no\n",
              "1       1\n",
              "2      23\n",
              "3      13\n",
              "4      12\n",
              "5       1\n",
              "       ..\n",
              "211     0\n",
              "212    20\n",
              "213    73\n",
              "214    25\n",
              "215     7\n",
              "Name: runs, Length: 215, dtype: int64"
            ]
          },
          "metadata": {},
          "execution_count": 96
        }
      ]
    },
    {
      "cell_type": "code",
      "source": [
        "new = vk.head()"
      ],
      "metadata": {
        "id": "lVwkTIbOAnHH"
      },
      "execution_count": null,
      "outputs": []
    },
    {
      "cell_type": "code",
      "source": [
        "new"
      ],
      "metadata": {
        "colab": {
          "base_uri": "https://localhost:8080/"
        },
        "id": "xKR8-xQ0Arwz",
        "outputId": "97cd21b4-9b11-4e58-e0df-20f493f524e4"
      },
      "execution_count": null,
      "outputs": [
        {
          "output_type": "execute_result",
          "data": {
            "text/plain": [
              "match_no\n",
              "1     1\n",
              "2    23\n",
              "3    13\n",
              "4    12\n",
              "5     1\n",
              "Name: runs, dtype: int64"
            ]
          },
          "metadata": {},
          "execution_count": 95
        }
      ]
    },
    {
      "cell_type": "code",
      "source": [
        "new[1] = 1"
      ],
      "metadata": {
        "id": "LNfE3adFAwAD"
      },
      "execution_count": null,
      "outputs": []
    },
    {
      "cell_type": "code",
      "source": [
        "new = vk.head().copy()"
      ],
      "metadata": {
        "id": "e-nedIkNA0UW"
      },
      "execution_count": null,
      "outputs": []
    },
    {
      "cell_type": "code",
      "source": [
        "new[1] = 100"
      ],
      "metadata": {
        "id": "b2qEYZVEBIX3"
      },
      "execution_count": null,
      "outputs": []
    },
    {
      "cell_type": "code",
      "source": [
        "new"
      ],
      "metadata": {
        "id": "WCFl7LlnBNIt",
        "outputId": "53beac02-d390-47d0-b17a-8a0f5621dc4c",
        "colab": {
          "base_uri": "https://localhost:8080/"
        }
      },
      "execution_count": null,
      "outputs": [
        {
          "output_type": "execute_result",
          "data": {
            "text/plain": [
              "match_no\n",
              "1    100\n",
              "2     23\n",
              "3     13\n",
              "4     12\n",
              "5      1\n",
              "Name: runs, dtype: int64"
            ]
          },
          "metadata": {},
          "execution_count": 102
        }
      ]
    },
    {
      "cell_type": "code",
      "source": [
        "vk"
      ],
      "metadata": {
        "id": "mTrtCs7hBPx5",
        "outputId": "4894f63a-e4ac-44cd-a1bf-28d386ee2912",
        "colab": {
          "base_uri": "https://localhost:8080/"
        }
      },
      "execution_count": null,
      "outputs": [
        {
          "output_type": "execute_result",
          "data": {
            "text/plain": [
              "match_no\n",
              "1       1\n",
              "2      23\n",
              "3      13\n",
              "4      12\n",
              "5       1\n",
              "       ..\n",
              "211     0\n",
              "212    20\n",
              "213    73\n",
              "214    25\n",
              "215     7\n",
              "Name: runs, Length: 215, dtype: int64"
            ]
          },
          "metadata": {},
          "execution_count": 103
        }
      ]
    },
    {
      "cell_type": "code",
      "source": [],
      "metadata": {
        "id": "92Amef7tBROO"
      },
      "execution_count": null,
      "outputs": []
    }
  ]
}